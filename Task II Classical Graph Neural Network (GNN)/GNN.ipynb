{
 "cells": [
  {
   "cell_type": "code",
   "execution_count": 2,
   "metadata": {},
   "outputs": [],
   "source": [
    "import torch\n",
    "import torch.nn.functional as F\n",
    "import numpy as np\n",
    "from torch_geometric.data import Dataset, Data\n",
    "\n",
    "def build_knn_graph(points, k=8):\n",
    "    M = points.shape[0]\n",
    "\n",
    "    dist_matrix = np.zeros((M, M))\n",
    "    for i in range(M):\n",
    "        for j in range(i+1, M):\n",
    "            d_eta = points[i, 0] - points[j, 0]\n",
    "            d_phi = points[i, 1] - points[j, 1]\n",
    "            dR = np.sqrt(d_eta**2 + d_phi**2)\n",
    "            dist_matrix[i, j] = dR\n",
    "            dist_matrix[j, i] = dR\n",
    "    \n",
    "    edges = []\n",
    "    for i in range(M):\n",
    "        neighbors = np.argsort(dist_matrix[i])[:k]  \n",
    "        for nbr in neighbors:\n",
    "            if nbr != i:\n",
    "                edges.append([i, nbr])\n",
    "    edge_index = torch.tensor(edges, dtype=torch.long).t()  # shape (2, E)\n",
    "    return edge_index\n",
    "\n",
    "class QGDataset(Dataset):\n",
    "    def __init__(self, X, y, k=8, transform=None):\n",
    "        \"\"\"\n",
    "        X: shape (N, M, 4)\n",
    "        y: shape (N,)\n",
    "        k: k-NN 的 k\n",
    "        \"\"\"\n",
    "        super().__init__(None, transform, None)\n",
    "        self.X = X\n",
    "        self.y = y\n",
    "        self.k = k\n",
    "    \n",
    "    def len(self):\n",
    "        return len(self.X)\n",
    "    \n",
    "    def get(self, idx):\n",
    "        # (shape: (M, 4))\n",
    "        jet = self.X[idx]\n",
    "        label = self.y[idx]\n",
    "        \n",
    "\n",
    "        x = torch.tensor(jet, dtype=torch.float)  # shape (M, 4)\n",
    "        \n",
    "\n",
    "        # jet[:, 1] = eta; jet[:, 2] = phi\n",
    "        eta_phi = jet[:, 1:3]\n",
    "        edge_index = build_knn_graph(eta_phi, k=self.k)\n",
    "        \n",
    "        y_tensor = torch.tensor([label], dtype=torch.long)\n",
    "        \n",
    "        data = Data(x=x, edge_index=edge_index, y=y_tensor)\n",
    "        return data\n",
    "\n",
    "from torch_geometric.loader import DataLoader\n",
    "\n",
    "data = np.load(\"QG_jets.npz\")\n",
    "X = data[\"X\"]  # shape: (100000, M, 4)\n",
    "y = data[\"y\"]  # shape: (100000,)\n",
    "\n",
    "# train / test split\n",
    "N = len(X)\n",
    "indices = np.arange(N)\n",
    "np.random.shuffle(indices)\n",
    "train_size = int(0.1 * N)\n",
    "train_idx = indices[:train_size]\n",
    "test_idx  = indices[train_size:]\n",
    "\n",
    "X_train, y_train = X[train_idx], y[train_idx]\n",
    "X_test,  y_test  = X[test_idx],  y[test_idx]\n",
    "\n",
    "\n",
    "train_dataset = QGDataset(X_train, y_train, k=8)\n",
    "test_dataset  = QGDataset(X_test,  y_test,  k=8)\n",
    "\n",
    "#  DataLoader\n",
    "train_loader = DataLoader(train_dataset, batch_size=32, shuffle=True)\n",
    "test_loader  = DataLoader(test_dataset,  batch_size=32, shuffle=False)"
   ]
  },
  {
   "cell_type": "code",
   "execution_count": 3,
   "metadata": {},
   "outputs": [],
   "source": [
    "import torch.nn as nn\n",
    "from torch_geometric.nn import GCNConv, GATConv, global_mean_pool\n",
    "\n",
    "# === 1. GCN ===\n",
    "class GCNClassifier(nn.Module):\n",
    "    def __init__(self, in_channels, hidden_dim=64, out_dim=2):\n",
    "        super(GCNClassifier, self).__init__()\n",
    "        self.conv1 = GCNConv(in_channels, hidden_dim)\n",
    "        self.conv2 = GCNConv(hidden_dim, hidden_dim)\n",
    "        self.fc = nn.Linear(hidden_dim, out_dim)\n",
    "    \n",
    "    def forward(self, x, edge_index, batch):\n",
    "        x = self.conv1(x, edge_index)\n",
    "        x = F.relu(x)\n",
    "        x = self.conv2(x, edge_index)\n",
    "        x = F.relu(x)\n",
    "        \n",
    "        # global mean pooling\n",
    "        x = global_mean_pool(x, batch)\n",
    "        return self.fc(x)\n",
    "\n",
    "# === 2. GAT ===\n",
    "class GATClassifier(nn.Module):\n",
    "    def __init__(self, in_channels, hidden_dim=64, out_dim=2, heads=4):\n",
    "        super(GATClassifier, self).__init__()\n",
    "        self.gat1 = GATConv(in_channels, hidden_dim, heads=heads)\n",
    "        #  output channel = hidden_dim * heads\n",
    "        self.gat2 = GATConv(hidden_dim * heads, hidden_dim, heads=heads)\n",
    "        self.fc = nn.Linear(hidden_dim * heads, out_dim)\n",
    "    \n",
    "    def forward(self, x, edge_index, batch):\n",
    "        x = self.gat1(x, edge_index)\n",
    "        x = F.elu(x)\n",
    "        x = self.gat2(x, edge_index)\n",
    "        x = F.elu(x)\n",
    "        \n",
    "        x = global_mean_pool(x, batch)\n",
    "        return self.fc(x)\n"
   ]
  },
  {
   "cell_type": "code",
   "execution_count": 4,
   "metadata": {},
   "outputs": [],
   "source": [
    "def train_one_epoch(model, optimizer, loader, device):\n",
    "    model.train()\n",
    "    total_loss = 0\n",
    "    correct = 0\n",
    "    for data in loader:\n",
    "        data = data.to(device)\n",
    "        optimizer.zero_grad()\n",
    "        \n",
    "        out = model(data.x, data.edge_index, data.batch)\n",
    "        loss = F.cross_entropy(out, data.y)\n",
    "        \n",
    "        loss.backward()\n",
    "        optimizer.step()\n",
    "        \n",
    "        total_loss += loss.item() * data.num_graphs\n",
    "        \n",
    "        pred = out.argmax(dim=1)\n",
    "        correct += (pred == data.y).sum().item()\n",
    "    \n",
    "    avg_loss = total_loss / len(loader.dataset)\n",
    "    avg_acc = correct / len(loader.dataset)\n",
    "    return avg_loss, avg_acc\n",
    "\n",
    "def test(model, loader, device):\n",
    "    model.eval()\n",
    "    total_loss = 0\n",
    "    correct = 0\n",
    "    for data in loader:\n",
    "        data = data.to(device)\n",
    "        with torch.no_grad():\n",
    "            out = model(data.x, data.edge_index, data.batch)\n",
    "            loss = F.cross_entropy(out, data.y)\n",
    "        \n",
    "        total_loss += loss.item() * data.num_graphs\n",
    "        pred = out.argmax(dim=1)\n",
    "        correct += (pred == data.y).sum().item()\n",
    "    \n",
    "    avg_loss = total_loss / len(loader.dataset)\n",
    "    avg_acc = correct / len(loader.dataset)\n",
    "    return avg_loss, avg_acc\n"
   ]
  },
  {
   "cell_type": "code",
   "execution_count": 5,
   "metadata": {},
   "outputs": [
    {
     "name": "stderr",
     "output_type": "stream",
     "text": [
      "Creating dataset: 100%|██████████| 100000/100000 [03:25<00:00, 486.47it/s]\n"
     ]
    },
    {
     "name": "stdout",
     "output_type": "stream",
     "text": [
      "Training GCN...\n"
     ]
    },
    {
     "name": "stderr",
     "output_type": "stream",
     "text": [
      "Epochs:   2%|▏         | 1/50 [00:45<37:17, 45.65s/it]"
     ]
    },
    {
     "name": "stdout",
     "output_type": "stream",
     "text": [
      "Epoch 1/50, Train Loss: 0.6958, Train Acc: 0.5600, Val Loss: 0.6889, Val Acc: 0.5310\n"
     ]
    },
    {
     "name": "stderr",
     "output_type": "stream",
     "text": [
      "Epochs:   4%|▍         | 2/50 [01:11<27:09, 33.95s/it]"
     ]
    },
    {
     "name": "stdout",
     "output_type": "stream",
     "text": [
      "Epoch 2/50, Train Loss: 0.6856, Train Acc: 0.5713, Val Loss: 0.6853, Val Acc: 0.5862\n"
     ]
    },
    {
     "name": "stderr",
     "output_type": "stream",
     "text": [
      "Epochs:   6%|▌         | 3/50 [01:34<22:50, 29.15s/it]"
     ]
    },
    {
     "name": "stdout",
     "output_type": "stream",
     "text": [
      "Epoch 3/50, Train Loss: 0.6848, Train Acc: 0.5742, Val Loss: 0.6964, Val Acc: 0.5036\n"
     ]
    },
    {
     "name": "stderr",
     "output_type": "stream",
     "text": [
      "Epochs:   8%|▊         | 4/50 [01:59<20:57, 27.33s/it]"
     ]
    },
    {
     "name": "stdout",
     "output_type": "stream",
     "text": [
      "Epoch 4/50, Train Loss: 0.6838, Train Acc: 0.5769, Val Loss: 0.6834, Val Acc: 0.5511\n"
     ]
    },
    {
     "name": "stderr",
     "output_type": "stream",
     "text": [
      "Epochs:  10%|█         | 5/50 [02:26<20:23, 27.18s/it]"
     ]
    },
    {
     "name": "stdout",
     "output_type": "stream",
     "text": [
      "Epoch 5/50, Train Loss: 0.6766, Train Acc: 0.5891, Val Loss: 0.6665, Val Acc: 0.5737\n"
     ]
    },
    {
     "name": "stderr",
     "output_type": "stream",
     "text": [
      "Epochs:  12%|█▏        | 6/50 [03:11<24:24, 33.29s/it]"
     ]
    },
    {
     "name": "stdout",
     "output_type": "stream",
     "text": [
      "Epoch 6/50, Train Loss: 0.6357, Train Acc: 0.6436, Val Loss: 0.6065, Val Acc: 0.6637\n"
     ]
    },
    {
     "name": "stderr",
     "output_type": "stream",
     "text": [
      "Epochs:  14%|█▍        | 7/50 [03:39<22:35, 31.52s/it]"
     ]
    },
    {
     "name": "stdout",
     "output_type": "stream",
     "text": [
      "Epoch 7/50, Train Loss: 0.5947, Train Acc: 0.6847, Val Loss: 0.5619, Val Acc: 0.7156\n"
     ]
    },
    {
     "name": "stderr",
     "output_type": "stream",
     "text": [
      "Epochs:  16%|█▌        | 8/50 [04:32<26:49, 38.33s/it]"
     ]
    },
    {
     "name": "stdout",
     "output_type": "stream",
     "text": [
      "Epoch 8/50, Train Loss: 0.5710, Train Acc: 0.7035, Val Loss: 0.5570, Val Acc: 0.7057\n"
     ]
    },
    {
     "name": "stderr",
     "output_type": "stream",
     "text": [
      "Epochs:  18%|█▊        | 9/50 [05:37<31:58, 46.79s/it]"
     ]
    },
    {
     "name": "stdout",
     "output_type": "stream",
     "text": [
      "Epoch 9/50, Train Loss: 0.5577, Train Acc: 0.7167, Val Loss: 0.5395, Val Acc: 0.7275\n"
     ]
    },
    {
     "name": "stderr",
     "output_type": "stream",
     "text": [
      "Epochs:  20%|██        | 10/50 [06:42<34:54, 52.36s/it]"
     ]
    },
    {
     "name": "stdout",
     "output_type": "stream",
     "text": [
      "Epoch 10/50, Train Loss: 0.5469, Train Acc: 0.7269, Val Loss: 0.5261, Val Acc: 0.7400\n"
     ]
    },
    {
     "name": "stderr",
     "output_type": "stream",
     "text": [
      "Epochs:  22%|██▏       | 11/50 [07:46<36:19, 55.89s/it]"
     ]
    },
    {
     "name": "stdout",
     "output_type": "stream",
     "text": [
      "Epoch 11/50, Train Loss: 0.5399, Train Acc: 0.7326, Val Loss: 0.5331, Val Acc: 0.7267\n"
     ]
    },
    {
     "name": "stderr",
     "output_type": "stream",
     "text": [
      "Epochs:  24%|██▍       | 12/50 [08:35<34:07, 53.88s/it]"
     ]
    },
    {
     "name": "stdout",
     "output_type": "stream",
     "text": [
      "Epoch 12/50, Train Loss: 0.5342, Train Acc: 0.7374, Val Loss: 0.5161, Val Acc: 0.7471\n"
     ]
    },
    {
     "name": "stderr",
     "output_type": "stream",
     "text": [
      "Epochs:  26%|██▌       | 13/50 [08:58<27:23, 44.42s/it]"
     ]
    },
    {
     "name": "stdout",
     "output_type": "stream",
     "text": [
      "Epoch 13/50, Train Loss: 0.5325, Train Acc: 0.7368, Val Loss: 0.5068, Val Acc: 0.7572\n"
     ]
    },
    {
     "name": "stderr",
     "output_type": "stream",
     "text": [
      "Epochs:  28%|██▊       | 14/50 [09:23<23:10, 38.61s/it]"
     ]
    },
    {
     "name": "stdout",
     "output_type": "stream",
     "text": [
      "Epoch 14/50, Train Loss: 0.5302, Train Acc: 0.7394, Val Loss: 0.5305, Val Acc: 0.7337\n"
     ]
    },
    {
     "name": "stderr",
     "output_type": "stream",
     "text": [
      "Epochs:  30%|███       | 15/50 [09:48<20:05, 34.44s/it]"
     ]
    },
    {
     "name": "stdout",
     "output_type": "stream",
     "text": [
      "Epoch 15/50, Train Loss: 0.5294, Train Acc: 0.7405, Val Loss: 0.5192, Val Acc: 0.7414\n"
     ]
    },
    {
     "name": "stderr",
     "output_type": "stream",
     "text": [
      "Epochs:  32%|███▏      | 16/50 [10:32<21:12, 37.42s/it]"
     ]
    },
    {
     "name": "stdout",
     "output_type": "stream",
     "text": [
      "Epoch 16/50, Train Loss: 0.5263, Train Acc: 0.7433, Val Loss: 0.5059, Val Acc: 0.7560\n"
     ]
    },
    {
     "name": "stderr",
     "output_type": "stream",
     "text": [
      "Epochs:  34%|███▍      | 17/50 [10:59<18:48, 34.20s/it]"
     ]
    },
    {
     "name": "stdout",
     "output_type": "stream",
     "text": [
      "Epoch 17/50, Train Loss: 0.5251, Train Acc: 0.7451, Val Loss: 0.5105, Val Acc: 0.7577\n"
     ]
    },
    {
     "name": "stderr",
     "output_type": "stream",
     "text": [
      "Epochs:  36%|███▌      | 18/50 [11:24<16:49, 31.56s/it]"
     ]
    },
    {
     "name": "stdout",
     "output_type": "stream",
     "text": [
      "Epoch 18/50, Train Loss: 0.5239, Train Acc: 0.7441, Val Loss: 0.5023, Val Acc: 0.7621\n"
     ]
    },
    {
     "name": "stderr",
     "output_type": "stream",
     "text": [
      "Epochs:  38%|███▊      | 19/50 [11:54<15:58, 30.92s/it]"
     ]
    },
    {
     "name": "stdout",
     "output_type": "stream",
     "text": [
      "Epoch 19/50, Train Loss: 0.5254, Train Acc: 0.7430, Val Loss: 0.5057, Val Acc: 0.7569\n"
     ]
    },
    {
     "name": "stderr",
     "output_type": "stream",
     "text": [
      "Epochs:  40%|████      | 20/50 [12:20<14:43, 29.44s/it]"
     ]
    },
    {
     "name": "stdout",
     "output_type": "stream",
     "text": [
      "Epoch 20/50, Train Loss: 0.5216, Train Acc: 0.7463, Val Loss: 0.5186, Val Acc: 0.7407\n"
     ]
    },
    {
     "name": "stderr",
     "output_type": "stream",
     "text": [
      "Epochs:  42%|████▏     | 21/50 [12:45<13:34, 28.09s/it]"
     ]
    },
    {
     "name": "stdout",
     "output_type": "stream",
     "text": [
      "Epoch 21/50, Train Loss: 0.5214, Train Acc: 0.7467, Val Loss: 0.5049, Val Acc: 0.7596\n"
     ]
    },
    {
     "name": "stderr",
     "output_type": "stream",
     "text": [
      "Epochs:  44%|████▍     | 22/50 [13:06<12:06, 25.96s/it]"
     ]
    },
    {
     "name": "stdout",
     "output_type": "stream",
     "text": [
      "Epoch 22/50, Train Loss: 0.5197, Train Acc: 0.7473, Val Loss: 0.5030, Val Acc: 0.7613\n"
     ]
    },
    {
     "name": "stderr",
     "output_type": "stream",
     "text": [
      "Epochs:  46%|████▌     | 23/50 [13:26<10:57, 24.34s/it]"
     ]
    },
    {
     "name": "stdout",
     "output_type": "stream",
     "text": [
      "Epoch 23/50, Train Loss: 0.5204, Train Acc: 0.7486, Val Loss: 0.5010, Val Acc: 0.7612\n"
     ]
    },
    {
     "name": "stderr",
     "output_type": "stream",
     "text": [
      "Epochs:  48%|████▊     | 24/50 [13:46<10:01, 23.12s/it]"
     ]
    },
    {
     "name": "stdout",
     "output_type": "stream",
     "text": [
      "Epoch 24/50, Train Loss: 0.5193, Train Acc: 0.7472, Val Loss: 0.5092, Val Acc: 0.7552\n"
     ]
    },
    {
     "name": "stderr",
     "output_type": "stream",
     "text": [
      "Epochs:  50%|█████     | 25/50 [14:07<09:16, 22.27s/it]"
     ]
    },
    {
     "name": "stdout",
     "output_type": "stream",
     "text": [
      "Epoch 25/50, Train Loss: 0.5193, Train Acc: 0.7482, Val Loss: 0.4987, Val Acc: 0.7703\n"
     ]
    },
    {
     "name": "stderr",
     "output_type": "stream",
     "text": [
      "Epochs:  52%|█████▏    | 26/50 [14:30<09:01, 22.55s/it]"
     ]
    },
    {
     "name": "stdout",
     "output_type": "stream",
     "text": [
      "Epoch 26/50, Train Loss: 0.5184, Train Acc: 0.7491, Val Loss: 0.5041, Val Acc: 0.7538\n"
     ]
    },
    {
     "name": "stderr",
     "output_type": "stream",
     "text": [
      "Epochs:  54%|█████▍    | 27/50 [14:55<08:59, 23.45s/it]"
     ]
    },
    {
     "name": "stdout",
     "output_type": "stream",
     "text": [
      "Epoch 27/50, Train Loss: 0.5170, Train Acc: 0.7485, Val Loss: 0.4989, Val Acc: 0.7638\n"
     ]
    },
    {
     "name": "stderr",
     "output_type": "stream",
     "text": [
      "Epochs:  56%|█████▌    | 28/50 [15:19<08:38, 23.57s/it]"
     ]
    },
    {
     "name": "stdout",
     "output_type": "stream",
     "text": [
      "Epoch 28/50, Train Loss: 0.5173, Train Acc: 0.7488, Val Loss: 0.5017, Val Acc: 0.7588\n"
     ]
    },
    {
     "name": "stderr",
     "output_type": "stream",
     "text": [
      "Epochs:  58%|█████▊    | 29/50 [15:46<08:34, 24.49s/it]"
     ]
    },
    {
     "name": "stdout",
     "output_type": "stream",
     "text": [
      "Epoch 29/50, Train Loss: 0.5160, Train Acc: 0.7518, Val Loss: 0.5034, Val Acc: 0.7547\n"
     ]
    },
    {
     "name": "stderr",
     "output_type": "stream",
     "text": [
      "Epochs:  60%|██████    | 30/50 [16:10<08:09, 24.46s/it]"
     ]
    },
    {
     "name": "stdout",
     "output_type": "stream",
     "text": [
      "Epoch 30/50, Train Loss: 0.5165, Train Acc: 0.7503, Val Loss: 0.4960, Val Acc: 0.7680\n"
     ]
    },
    {
     "name": "stderr",
     "output_type": "stream",
     "text": [
      "Epochs:  62%|██████▏   | 31/50 [16:35<07:48, 24.65s/it]"
     ]
    },
    {
     "name": "stdout",
     "output_type": "stream",
     "text": [
      "Epoch 31/50, Train Loss: 0.5158, Train Acc: 0.7517, Val Loss: 0.5366, Val Acc: 0.7198\n"
     ]
    },
    {
     "name": "stderr",
     "output_type": "stream",
     "text": [
      "Epochs:  64%|██████▍   | 32/50 [17:01<07:26, 24.80s/it]"
     ]
    },
    {
     "name": "stdout",
     "output_type": "stream",
     "text": [
      "Epoch 32/50, Train Loss: 0.5150, Train Acc: 0.7521, Val Loss: 0.5004, Val Acc: 0.7620\n"
     ]
    },
    {
     "name": "stderr",
     "output_type": "stream",
     "text": [
      "Epochs:  66%|██████▌   | 33/50 [17:24<06:54, 24.39s/it]"
     ]
    },
    {
     "name": "stdout",
     "output_type": "stream",
     "text": [
      "Epoch 33/50, Train Loss: 0.5141, Train Acc: 0.7521, Val Loss: 0.4991, Val Acc: 0.7636\n"
     ]
    },
    {
     "name": "stderr",
     "output_type": "stream",
     "text": [
      "Epochs:  68%|██████▊   | 34/50 [17:49<06:34, 24.64s/it]"
     ]
    },
    {
     "name": "stdout",
     "output_type": "stream",
     "text": [
      "Epoch 34/50, Train Loss: 0.5147, Train Acc: 0.7516, Val Loss: 0.4990, Val Acc: 0.7630\n"
     ]
    },
    {
     "name": "stderr",
     "output_type": "stream",
     "text": [
      "Epochs:  70%|███████   | 35/50 [18:16<06:17, 25.15s/it]"
     ]
    },
    {
     "name": "stdout",
     "output_type": "stream",
     "text": [
      "Epoch 35/50, Train Loss: 0.5131, Train Acc: 0.7527, Val Loss: 0.4962, Val Acc: 0.7673\n"
     ]
    },
    {
     "name": "stderr",
     "output_type": "stream",
     "text": [
      "Epochs:  72%|███████▏  | 36/50 [18:38<05:41, 24.38s/it]"
     ]
    },
    {
     "name": "stdout",
     "output_type": "stream",
     "text": [
      "Epoch 36/50, Train Loss: 0.5130, Train Acc: 0.7522, Val Loss: 0.5134, Val Acc: 0.7443\n"
     ]
    },
    {
     "name": "stderr",
     "output_type": "stream",
     "text": [
      "Epochs:  74%|███████▍  | 37/50 [19:01<05:10, 23.91s/it]"
     ]
    },
    {
     "name": "stdout",
     "output_type": "stream",
     "text": [
      "Epoch 37/50, Train Loss: 0.5118, Train Acc: 0.7542, Val Loss: 0.4983, Val Acc: 0.7623\n"
     ]
    },
    {
     "name": "stderr",
     "output_type": "stream",
     "text": [
      "Epochs:  76%|███████▌  | 38/50 [19:24<04:44, 23.69s/it]"
     ]
    },
    {
     "name": "stdout",
     "output_type": "stream",
     "text": [
      "Epoch 38/50, Train Loss: 0.5106, Train Acc: 0.7541, Val Loss: 0.4930, Val Acc: 0.7695\n"
     ]
    },
    {
     "name": "stderr",
     "output_type": "stream",
     "text": [
      "Epochs:  78%|███████▊  | 39/50 [19:47<04:18, 23.46s/it]"
     ]
    },
    {
     "name": "stdout",
     "output_type": "stream",
     "text": [
      "Epoch 39/50, Train Loss: 0.5112, Train Acc: 0.7533, Val Loss: 0.5200, Val Acc: 0.7403\n"
     ]
    },
    {
     "name": "stderr",
     "output_type": "stream",
     "text": [
      "Epochs:  80%|████████  | 40/50 [20:07<03:42, 22.27s/it]"
     ]
    },
    {
     "name": "stdout",
     "output_type": "stream",
     "text": [
      "Epoch 40/50, Train Loss: 0.5112, Train Acc: 0.7547, Val Loss: 0.5016, Val Acc: 0.7606\n"
     ]
    },
    {
     "name": "stderr",
     "output_type": "stream",
     "text": [
      "Epochs:  82%|████████▏ | 41/50 [20:28<03:18, 22.10s/it]"
     ]
    },
    {
     "name": "stdout",
     "output_type": "stream",
     "text": [
      "Epoch 41/50, Train Loss: 0.5097, Train Acc: 0.7566, Val Loss: 0.4957, Val Acc: 0.7667\n"
     ]
    },
    {
     "name": "stderr",
     "output_type": "stream",
     "text": [
      "Epochs:  84%|████████▍ | 42/50 [20:49<02:54, 21.78s/it]"
     ]
    },
    {
     "name": "stdout",
     "output_type": "stream",
     "text": [
      "Epoch 42/50, Train Loss: 0.5101, Train Acc: 0.7547, Val Loss: 0.4918, Val Acc: 0.7725\n"
     ]
    },
    {
     "name": "stderr",
     "output_type": "stream",
     "text": [
      "Epochs:  86%|████████▌ | 43/50 [21:10<02:30, 21.52s/it]"
     ]
    },
    {
     "name": "stdout",
     "output_type": "stream",
     "text": [
      "Epoch 43/50, Train Loss: 0.5087, Train Acc: 0.7560, Val Loss: 0.4947, Val Acc: 0.7658\n"
     ]
    },
    {
     "name": "stderr",
     "output_type": "stream",
     "text": [
      "Epochs:  88%|████████▊ | 44/50 [21:32<02:08, 21.49s/it]"
     ]
    },
    {
     "name": "stdout",
     "output_type": "stream",
     "text": [
      "Epoch 44/50, Train Loss: 0.5076, Train Acc: 0.7561, Val Loss: 0.4932, Val Acc: 0.7696\n"
     ]
    },
    {
     "name": "stderr",
     "output_type": "stream",
     "text": [
      "Epochs:  90%|█████████ | 45/50 [21:53<01:46, 21.36s/it]"
     ]
    },
    {
     "name": "stdout",
     "output_type": "stream",
     "text": [
      "Epoch 45/50, Train Loss: 0.5092, Train Acc: 0.7557, Val Loss: 0.4946, Val Acc: 0.7678\n"
     ]
    },
    {
     "name": "stderr",
     "output_type": "stream",
     "text": [
      "Epochs:  92%|█████████▏| 46/50 [22:15<01:26, 21.64s/it]"
     ]
    },
    {
     "name": "stdout",
     "output_type": "stream",
     "text": [
      "Epoch 46/50, Train Loss: 0.5089, Train Acc: 0.7571, Val Loss: 0.4910, Val Acc: 0.7697\n"
     ]
    },
    {
     "name": "stderr",
     "output_type": "stream",
     "text": [
      "Epochs:  94%|█████████▍| 47/50 [22:37<01:05, 21.70s/it]"
     ]
    },
    {
     "name": "stdout",
     "output_type": "stream",
     "text": [
      "Epoch 47/50, Train Loss: 0.5080, Train Acc: 0.7557, Val Loss: 0.4955, Val Acc: 0.7677\n"
     ]
    },
    {
     "name": "stderr",
     "output_type": "stream",
     "text": [
      "Epochs:  96%|█████████▌| 48/50 [22:57<00:42, 21.31s/it]"
     ]
    },
    {
     "name": "stdout",
     "output_type": "stream",
     "text": [
      "Epoch 48/50, Train Loss: 0.5076, Train Acc: 0.7546, Val Loss: 0.4921, Val Acc: 0.7665\n"
     ]
    },
    {
     "name": "stderr",
     "output_type": "stream",
     "text": [
      "Epochs:  98%|█████████▊| 49/50 [23:19<00:21, 21.32s/it]"
     ]
    },
    {
     "name": "stdout",
     "output_type": "stream",
     "text": [
      "Epoch 49/50, Train Loss: 0.5052, Train Acc: 0.7569, Val Loss: 0.4917, Val Acc: 0.7692\n"
     ]
    },
    {
     "name": "stderr",
     "output_type": "stream",
     "text": [
      "Epochs: 100%|██████████| 50/50 [23:39<00:00, 28.39s/it]\n"
     ]
    },
    {
     "name": "stdout",
     "output_type": "stream",
     "text": [
      "Epoch 50/50, Train Loss: 0.5078, Train Acc: 0.7569, Val Loss: 0.4924, Val Acc: 0.7708\n",
      "\n",
      "Training EdgeConv...\n"
     ]
    },
    {
     "name": "stderr",
     "output_type": "stream",
     "text": [
      "Epochs:   2%|▏         | 1/50 [00:36<29:58, 36.70s/it]"
     ]
    },
    {
     "name": "stdout",
     "output_type": "stream",
     "text": [
      "Epoch 1/50, Train Loss: 0.6854, Train Acc: 0.5742, Val Loss: 0.6739, Val Acc: 0.6034\n"
     ]
    },
    {
     "name": "stderr",
     "output_type": "stream",
     "text": [
      "Epochs:   4%|▍         | 2/50 [01:18<31:50, 39.81s/it]"
     ]
    },
    {
     "name": "stdout",
     "output_type": "stream",
     "text": [
      "Epoch 2/50, Train Loss: 0.6729, Train Acc: 0.6009, Val Loss: 0.6680, Val Acc: 0.6039\n"
     ]
    },
    {
     "name": "stderr",
     "output_type": "stream",
     "text": [
      "Epochs:   6%|▌         | 3/50 [01:59<31:42, 40.47s/it]"
     ]
    },
    {
     "name": "stdout",
     "output_type": "stream",
     "text": [
      "Epoch 3/50, Train Loss: 0.6689, Train Acc: 0.6038, Val Loss: 0.6890, Val Acc: 0.5133\n"
     ]
    },
    {
     "name": "stderr",
     "output_type": "stream",
     "text": [
      "Epochs:   8%|▊         | 4/50 [02:40<31:11, 40.68s/it]"
     ]
    },
    {
     "name": "stdout",
     "output_type": "stream",
     "text": [
      "Epoch 4/50, Train Loss: 0.6641, Train Acc: 0.6120, Val Loss: 0.6946, Val Acc: 0.5169\n"
     ]
    },
    {
     "name": "stderr",
     "output_type": "stream",
     "text": [
      "Epochs:  10%|█         | 5/50 [03:18<29:46, 39.69s/it]"
     ]
    },
    {
     "name": "stdout",
     "output_type": "stream",
     "text": [
      "Epoch 5/50, Train Loss: 0.6559, Train Acc: 0.6175, Val Loss: 0.6415, Val Acc: 0.6255\n"
     ]
    },
    {
     "name": "stderr",
     "output_type": "stream",
     "text": [
      "Epochs:  12%|█▏        | 6/50 [04:00<29:38, 40.41s/it]"
     ]
    },
    {
     "name": "stdout",
     "output_type": "stream",
     "text": [
      "Epoch 6/50, Train Loss: 0.6354, Train Acc: 0.6421, Val Loss: 0.6352, Val Acc: 0.6026\n"
     ]
    },
    {
     "name": "stderr",
     "output_type": "stream",
     "text": [
      "Epochs:  14%|█▍        | 7/50 [04:43<29:34, 41.26s/it]"
     ]
    },
    {
     "name": "stdout",
     "output_type": "stream",
     "text": [
      "Epoch 7/50, Train Loss: 0.6126, Train Acc: 0.6654, Val Loss: 0.6187, Val Acc: 0.6257\n"
     ]
    },
    {
     "name": "stderr",
     "output_type": "stream",
     "text": [
      "Epochs:  16%|█▌        | 8/50 [05:26<29:10, 41.69s/it]"
     ]
    },
    {
     "name": "stdout",
     "output_type": "stream",
     "text": [
      "Epoch 8/50, Train Loss: 0.5882, Train Acc: 0.6898, Val Loss: 0.5667, Val Acc: 0.7058\n"
     ]
    },
    {
     "name": "stderr",
     "output_type": "stream",
     "text": [
      "Epochs:  18%|█▊        | 9/50 [06:07<28:22, 41.52s/it]"
     ]
    },
    {
     "name": "stdout",
     "output_type": "stream",
     "text": [
      "Epoch 9/50, Train Loss: 0.5685, Train Acc: 0.7059, Val Loss: 0.5496, Val Acc: 0.7245\n"
     ]
    },
    {
     "name": "stderr",
     "output_type": "stream",
     "text": [
      "Epochs:  20%|██        | 10/50 [06:51<28:10, 42.27s/it]"
     ]
    },
    {
     "name": "stdout",
     "output_type": "stream",
     "text": [
      "Epoch 10/50, Train Loss: 0.5587, Train Acc: 0.7157, Val Loss: 0.5408, Val Acc: 0.7313\n"
     ]
    },
    {
     "name": "stderr",
     "output_type": "stream",
     "text": [
      "Epochs:  22%|██▏       | 11/50 [07:33<27:25, 42.20s/it]"
     ]
    },
    {
     "name": "stdout",
     "output_type": "stream",
     "text": [
      "Epoch 11/50, Train Loss: 0.5508, Train Acc: 0.7221, Val Loss: 0.5395, Val Acc: 0.7294\n"
     ]
    },
    {
     "name": "stderr",
     "output_type": "stream",
     "text": [
      "Epochs:  24%|██▍       | 12/50 [08:16<26:50, 42.37s/it]"
     ]
    },
    {
     "name": "stdout",
     "output_type": "stream",
     "text": [
      "Epoch 12/50, Train Loss: 0.5449, Train Acc: 0.7280, Val Loss: 0.5390, Val Acc: 0.7323\n"
     ]
    },
    {
     "name": "stderr",
     "output_type": "stream",
     "text": [
      "Epochs:  26%|██▌       | 13/50 [08:57<25:57, 42.10s/it]"
     ]
    },
    {
     "name": "stdout",
     "output_type": "stream",
     "text": [
      "Epoch 13/50, Train Loss: 0.5406, Train Acc: 0.7307, Val Loss: 0.5297, Val Acc: 0.7386\n"
     ]
    },
    {
     "name": "stderr",
     "output_type": "stream",
     "text": [
      "Epochs:  28%|██▊       | 14/50 [09:40<25:24, 42.35s/it]"
     ]
    },
    {
     "name": "stdout",
     "output_type": "stream",
     "text": [
      "Epoch 14/50, Train Loss: 0.5398, Train Acc: 0.7296, Val Loss: 0.5240, Val Acc: 0.7446\n"
     ]
    },
    {
     "name": "stderr",
     "output_type": "stream",
     "text": [
      "Epochs:  30%|███       | 15/50 [10:24<25:00, 42.87s/it]"
     ]
    },
    {
     "name": "stdout",
     "output_type": "stream",
     "text": [
      "Epoch 15/50, Train Loss: 0.5342, Train Acc: 0.7382, Val Loss: 0.5211, Val Acc: 0.7539\n"
     ]
    },
    {
     "name": "stderr",
     "output_type": "stream",
     "text": [
      "Epochs:  32%|███▏      | 16/50 [11:10<24:44, 43.65s/it]"
     ]
    },
    {
     "name": "stdout",
     "output_type": "stream",
     "text": [
      "Epoch 16/50, Train Loss: 0.5290, Train Acc: 0.7407, Val Loss: 0.5182, Val Acc: 0.7518\n"
     ]
    },
    {
     "name": "stderr",
     "output_type": "stream",
     "text": [
      "Epochs:  34%|███▍      | 17/50 [11:50<23:32, 42.79s/it]"
     ]
    },
    {
     "name": "stdout",
     "output_type": "stream",
     "text": [
      "Epoch 17/50, Train Loss: 0.5293, Train Acc: 0.7400, Val Loss: 0.5181, Val Acc: 0.7519\n"
     ]
    },
    {
     "name": "stderr",
     "output_type": "stream",
     "text": [
      "Epochs:  36%|███▌      | 18/50 [12:34<22:57, 43.06s/it]"
     ]
    },
    {
     "name": "stdout",
     "output_type": "stream",
     "text": [
      "Epoch 18/50, Train Loss: 0.5217, Train Acc: 0.7456, Val Loss: 0.5069, Val Acc: 0.7593\n"
     ]
    },
    {
     "name": "stderr",
     "output_type": "stream",
     "text": [
      "Epochs:  38%|███▊      | 19/50 [13:18<22:24, 43.37s/it]"
     ]
    },
    {
     "name": "stdout",
     "output_type": "stream",
     "text": [
      "Epoch 19/50, Train Loss: 0.5194, Train Acc: 0.7485, Val Loss: 0.5035, Val Acc: 0.7582\n"
     ]
    },
    {
     "name": "stderr",
     "output_type": "stream",
     "text": [
      "Epochs:  40%|████      | 20/50 [14:06<22:16, 44.56s/it]"
     ]
    },
    {
     "name": "stdout",
     "output_type": "stream",
     "text": [
      "Epoch 20/50, Train Loss: 0.5164, Train Acc: 0.7505, Val Loss: 0.5154, Val Acc: 0.7540\n"
     ]
    },
    {
     "name": "stderr",
     "output_type": "stream",
     "text": [
      "Epochs:  42%|████▏     | 21/50 [14:50<21:34, 44.64s/it]"
     ]
    },
    {
     "name": "stdout",
     "output_type": "stream",
     "text": [
      "Epoch 21/50, Train Loss: 0.5141, Train Acc: 0.7521, Val Loss: 0.5093, Val Acc: 0.7493\n"
     ]
    },
    {
     "name": "stderr",
     "output_type": "stream",
     "text": [
      "Epochs:  44%|████▍     | 22/50 [15:34<20:41, 44.35s/it]"
     ]
    },
    {
     "name": "stdout",
     "output_type": "stream",
     "text": [
      "Epoch 22/50, Train Loss: 0.5115, Train Acc: 0.7552, Val Loss: 0.5000, Val Acc: 0.7646\n"
     ]
    },
    {
     "name": "stderr",
     "output_type": "stream",
     "text": [
      "Epochs:  46%|████▌     | 23/50 [16:21<20:15, 45.01s/it]"
     ]
    },
    {
     "name": "stdout",
     "output_type": "stream",
     "text": [
      "Epoch 23/50, Train Loss: 0.5094, Train Acc: 0.7562, Val Loss: 0.4950, Val Acc: 0.7674\n"
     ]
    },
    {
     "name": "stderr",
     "output_type": "stream",
     "text": [
      "Epochs:  48%|████▊     | 24/50 [17:03<19:10, 44.26s/it]"
     ]
    },
    {
     "name": "stdout",
     "output_type": "stream",
     "text": [
      "Epoch 24/50, Train Loss: 0.5044, Train Acc: 0.7586, Val Loss: 0.4929, Val Acc: 0.7686\n"
     ]
    },
    {
     "name": "stderr",
     "output_type": "stream",
     "text": [
      "Epochs:  50%|█████     | 25/50 [17:48<18:33, 44.56s/it]"
     ]
    },
    {
     "name": "stdout",
     "output_type": "stream",
     "text": [
      "Epoch 25/50, Train Loss: 0.5033, Train Acc: 0.7592, Val Loss: 0.5146, Val Acc: 0.7573\n"
     ]
    },
    {
     "name": "stderr",
     "output_type": "stream",
     "text": [
      "Epochs:  52%|█████▏    | 26/50 [18:36<18:10, 45.43s/it]"
     ]
    },
    {
     "name": "stdout",
     "output_type": "stream",
     "text": [
      "Epoch 26/50, Train Loss: 0.5019, Train Acc: 0.7607, Val Loss: 0.4954, Val Acc: 0.7669\n"
     ]
    },
    {
     "name": "stderr",
     "output_type": "stream",
     "text": [
      "Epochs:  54%|█████▍    | 27/50 [19:18<17:04, 44.55s/it]"
     ]
    },
    {
     "name": "stdout",
     "output_type": "stream",
     "text": [
      "Epoch 27/50, Train Loss: 0.4988, Train Acc: 0.7635, Val Loss: 0.4907, Val Acc: 0.7683\n"
     ]
    },
    {
     "name": "stderr",
     "output_type": "stream",
     "text": [
      "Epochs:  56%|█████▌    | 28/50 [20:03<16:18, 44.47s/it]"
     ]
    },
    {
     "name": "stdout",
     "output_type": "stream",
     "text": [
      "Epoch 28/50, Train Loss: 0.4978, Train Acc: 0.7633, Val Loss: 0.4882, Val Acc: 0.7752\n"
     ]
    },
    {
     "name": "stderr",
     "output_type": "stream",
     "text": [
      "Epochs:  58%|█████▊    | 29/50 [20:48<15:39, 44.74s/it]"
     ]
    },
    {
     "name": "stdout",
     "output_type": "stream",
     "text": [
      "Epoch 29/50, Train Loss: 0.4960, Train Acc: 0.7659, Val Loss: 0.4970, Val Acc: 0.7702\n"
     ]
    },
    {
     "name": "stderr",
     "output_type": "stream",
     "text": [
      "Epochs:  60%|██████    | 30/50 [21:36<15:15, 45.76s/it]"
     ]
    },
    {
     "name": "stdout",
     "output_type": "stream",
     "text": [
      "Epoch 30/50, Train Loss: 0.4998, Train Acc: 0.7638, Val Loss: 0.4870, Val Acc: 0.7794\n"
     ]
    },
    {
     "name": "stderr",
     "output_type": "stream",
     "text": [
      "Epochs:  62%|██████▏   | 31/50 [22:28<15:02, 47.47s/it]"
     ]
    },
    {
     "name": "stdout",
     "output_type": "stream",
     "text": [
      "Epoch 31/50, Train Loss: 0.4935, Train Acc: 0.7674, Val Loss: 0.4811, Val Acc: 0.7833\n"
     ]
    },
    {
     "name": "stderr",
     "output_type": "stream",
     "text": [
      "Epochs:  64%|██████▍   | 32/50 [23:19<14:37, 48.77s/it]"
     ]
    },
    {
     "name": "stdout",
     "output_type": "stream",
     "text": [
      "Epoch 32/50, Train Loss: 0.4938, Train Acc: 0.7663, Val Loss: 0.4836, Val Acc: 0.7808\n"
     ]
    },
    {
     "name": "stderr",
     "output_type": "stream",
     "text": [
      "Epochs:  66%|██████▌   | 33/50 [24:04<13:28, 47.57s/it]"
     ]
    },
    {
     "name": "stdout",
     "output_type": "stream",
     "text": [
      "Epoch 33/50, Train Loss: 0.4916, Train Acc: 0.7682, Val Loss: 0.4868, Val Acc: 0.7743\n"
     ]
    },
    {
     "name": "stderr",
     "output_type": "stream",
     "text": [
      "Epochs:  68%|██████▊   | 34/50 [24:50<12:33, 47.10s/it]"
     ]
    },
    {
     "name": "stdout",
     "output_type": "stream",
     "text": [
      "Epoch 34/50, Train Loss: 0.4909, Train Acc: 0.7686, Val Loss: 0.4825, Val Acc: 0.7810\n"
     ]
    },
    {
     "name": "stderr",
     "output_type": "stream",
     "text": [
      "Epochs:  70%|███████   | 35/50 [25:37<11:43, 46.92s/it]"
     ]
    },
    {
     "name": "stdout",
     "output_type": "stream",
     "text": [
      "Epoch 35/50, Train Loss: 0.4901, Train Acc: 0.7692, Val Loss: 0.4849, Val Acc: 0.7809\n"
     ]
    },
    {
     "name": "stderr",
     "output_type": "stream",
     "text": [
      "Epochs:  72%|███████▏  | 36/50 [26:24<10:59, 47.09s/it]"
     ]
    },
    {
     "name": "stdout",
     "output_type": "stream",
     "text": [
      "Epoch 36/50, Train Loss: 0.4880, Train Acc: 0.7709, Val Loss: 0.4859, Val Acc: 0.7752\n"
     ]
    },
    {
     "name": "stderr",
     "output_type": "stream",
     "text": [
      "Epochs:  74%|███████▍  | 37/50 [28:04<13:37, 62.85s/it]"
     ]
    },
    {
     "name": "stdout",
     "output_type": "stream",
     "text": [
      "Epoch 37/50, Train Loss: 0.4887, Train Acc: 0.7704, Val Loss: 0.4898, Val Acc: 0.7776\n"
     ]
    },
    {
     "name": "stderr",
     "output_type": "stream",
     "text": [
      "Epochs:  76%|███████▌  | 38/50 [29:46<14:56, 74.70s/it]"
     ]
    },
    {
     "name": "stdout",
     "output_type": "stream",
     "text": [
      "Epoch 38/50, Train Loss: 0.4891, Train Acc: 0.7704, Val Loss: 0.5042, Val Acc: 0.7667\n"
     ]
    },
    {
     "name": "stderr",
     "output_type": "stream",
     "text": [
      "Epochs:  78%|███████▊  | 39/50 [31:29<15:13, 83.08s/it]"
     ]
    },
    {
     "name": "stdout",
     "output_type": "stream",
     "text": [
      "Epoch 39/50, Train Loss: 0.4867, Train Acc: 0.7715, Val Loss: 0.4856, Val Acc: 0.7811\n"
     ]
    },
    {
     "name": "stderr",
     "output_type": "stream",
     "text": [
      "Epochs:  80%|████████  | 40/50 [33:18<15:08, 90.84s/it]"
     ]
    },
    {
     "name": "stdout",
     "output_type": "stream",
     "text": [
      "Epoch 40/50, Train Loss: 0.4867, Train Acc: 0.7717, Val Loss: 0.4843, Val Acc: 0.7793\n"
     ]
    },
    {
     "name": "stderr",
     "output_type": "stream",
     "text": [
      "Epochs:  82%|████████▏ | 41/50 [35:08<14:29, 96.62s/it]"
     ]
    },
    {
     "name": "stdout",
     "output_type": "stream",
     "text": [
      "Epoch 41/50, Train Loss: 0.4856, Train Acc: 0.7723, Val Loss: 0.4812, Val Acc: 0.7814\n"
     ]
    },
    {
     "name": "stderr",
     "output_type": "stream",
     "text": [
      "Epochs:  84%|████████▍ | 42/50 [36:57<13:23, 100.38s/it]"
     ]
    },
    {
     "name": "stdout",
     "output_type": "stream",
     "text": [
      "Epoch 42/50, Train Loss: 0.4874, Train Acc: 0.7721, Val Loss: 0.4775, Val Acc: 0.7797\n"
     ]
    },
    {
     "name": "stderr",
     "output_type": "stream",
     "text": [
      "Epochs:  86%|████████▌ | 43/50 [38:46<12:00, 102.96s/it]"
     ]
    },
    {
     "name": "stdout",
     "output_type": "stream",
     "text": [
      "Epoch 43/50, Train Loss: 0.4836, Train Acc: 0.7751, Val Loss: 0.4738, Val Acc: 0.7820\n"
     ]
    },
    {
     "name": "stderr",
     "output_type": "stream",
     "text": [
      "Epochs:  88%|████████▊ | 44/50 [40:15<09:53, 98.89s/it] "
     ]
    },
    {
     "name": "stdout",
     "output_type": "stream",
     "text": [
      "Epoch 44/50, Train Loss: 0.4847, Train Acc: 0.7740, Val Loss: 0.4831, Val Acc: 0.7824\n"
     ]
    },
    {
     "name": "stderr",
     "output_type": "stream",
     "text": [
      "Epochs:  90%|█████████ | 45/50 [41:35<07:45, 93.08s/it]"
     ]
    },
    {
     "name": "stdout",
     "output_type": "stream",
     "text": [
      "Epoch 45/50, Train Loss: 0.4828, Train Acc: 0.7745, Val Loss: 0.4792, Val Acc: 0.7815\n"
     ]
    },
    {
     "name": "stderr",
     "output_type": "stream",
     "text": [
      "Epochs:  92%|█████████▏| 46/50 [43:27<06:34, 98.74s/it]"
     ]
    },
    {
     "name": "stdout",
     "output_type": "stream",
     "text": [
      "Epoch 46/50, Train Loss: 0.4828, Train Acc: 0.7747, Val Loss: 0.4835, Val Acc: 0.7765\n"
     ]
    },
    {
     "name": "stderr",
     "output_type": "stream",
     "text": [
      "Epochs:  94%|█████████▍| 47/50 [45:23<05:11, 103.97s/it]"
     ]
    },
    {
     "name": "stdout",
     "output_type": "stream",
     "text": [
      "Epoch 47/50, Train Loss: 0.4826, Train Acc: 0.7735, Val Loss: 0.4812, Val Acc: 0.7812\n"
     ]
    },
    {
     "name": "stderr",
     "output_type": "stream",
     "text": [
      "Epochs:  96%|█████████▌| 48/50 [47:15<03:32, 106.31s/it]"
     ]
    },
    {
     "name": "stdout",
     "output_type": "stream",
     "text": [
      "Epoch 48/50, Train Loss: 0.4824, Train Acc: 0.7737, Val Loss: 0.4773, Val Acc: 0.7848\n"
     ]
    },
    {
     "name": "stderr",
     "output_type": "stream",
     "text": [
      "Epochs:  98%|█████████▊| 49/50 [49:03<01:47, 107.03s/it]"
     ]
    },
    {
     "name": "stdout",
     "output_type": "stream",
     "text": [
      "Epoch 49/50, Train Loss: 0.4826, Train Acc: 0.7751, Val Loss: 0.4826, Val Acc: 0.7806\n"
     ]
    },
    {
     "name": "stderr",
     "output_type": "stream",
     "text": [
      "Epochs: 100%|██████████| 50/50 [50:53<00:00, 61.07s/it] \n"
     ]
    },
    {
     "name": "stdout",
     "output_type": "stream",
     "text": [
      "Epoch 50/50, Train Loss: 0.4818, Train Acc: 0.7753, Val Loss: 0.4781, Val Acc: 0.7816\n"
     ]
    },
    {
     "data": {
      "image/png": "[encoded data removed]",
      "text/plain": [
       "<Figure size 1200x400 with 2 Axes>"
      ]
     },
     "metadata": {},
     "output_type": "display_data"
    },
    {
     "name": "stderr",
     "output_type": "stream",
     "text": [
      "Evaluating: 100%|██████████| 79/79 [00:04<00:00, 18.96it/s]\n",
      "Evaluating: 100%|██████████| 79/79 [00:04<00:00, 17.55it/s]"
     ]
    },
    {
     "name": "stdout",
     "output_type": "stream",
     "text": [
      "\n",
      "GCN Test Accuracy: 0.7673\n",
      "EdgeConv Test Accuracy: 0.7768\n"
     ]
    },
    {
     "name": "stderr",
     "output_type": "stream",
     "text": [
      "\n"
     ]
    }
   ],
   "source": [
    "from torch_geometric.nn import GCNConv, global_mean_pool\n",
    "from torch_geometric.utils import to_undirected\n",
    "from sklearn.model_selection import train_test_split\n",
    "from sklearn.preprocessing import StandardScaler\n",
    "import matplotlib.pyplot as plt\n",
    "from tqdm import tqdm\n",
    "\n",
    "# Set random seed for reproducibility\n",
    "torch.manual_seed(42)\n",
    "device = torch.device('cuda' if torch.cuda.is_available() else 'cpu')\n",
    "\n",
    "# Step 1: Load and Preprocess the Dataset\n",
    "def load_data(file_path='QG_jets.npz'):\n",
    "    data = np.load(file_path)\n",
    "    X = data['X']  # Shape: (100000, M, 4)\n",
    "    y = data['y']  # Shape: (100000,)\n",
    "    return X, y\n",
    "\n",
    "# Step 2: Convert Point-Cloud to Graph (with fix for small jets)\n",
    "def point_cloud_to_graph(jet, k=3):\n",
    "    # jet: Shape (M, 4) - [pt, rapidity, azimuthal angle, pdgid]\n",
    "    # Filter out padded particles (where all features are 0)\n",
    "    mask = np.sum(jet, axis=1) != 0\n",
    "    jet = jet[mask]\n",
    "    \n",
    "    num_particles = len(jet)\n",
    "    if num_particles <= 1:  # Skip jets with 0 or 1 particle (can't form a graph)\n",
    "        return None\n",
    "    \n",
    "    # Node features: [pt, rapidity, azimuthal angle, pdgid]\n",
    "    x = torch.tensor(jet, dtype=torch.float)\n",
    "    \n",
    "    # Normalize features (except pdgid)\n",
    "    scaler = StandardScaler()\n",
    "    x[:, :3] = torch.tensor(scaler.fit_transform(x[:, :3].numpy()), dtype=torch.float)\n",
    "    \n",
    "    # Compute edges using k-NN in (rapidity, azimuthal angle) space\n",
    "    eta_phi = x[:, 1:3]  # Rapidity and azimuthal angle\n",
    "    dists = torch.cdist(eta_phi, eta_phi)  # Compute pairwise distances (Delta R approximation)\n",
    "    \n",
    "    # Adjust k if the number of particles is less than k + 1\n",
    "    k_adjusted = min(k, num_particles - 1)  # Ensure we don't select more neighbors than available\n",
    "    \n",
    "    # Get k-nearest neighbors (excluding self-loops)\n",
    "    _, indices = torch.topk(dists, k_adjusted + 1, largest=False)\n",
    "    indices = indices[:, 1:]  # Exclude the node itself (self-loop)\n",
    "    \n",
    "    # Create edge indices\n",
    "    row = torch.arange(num_particles).repeat_interleave(k_adjusted)\n",
    "    col = indices.flatten()\n",
    "    edge_index = torch.stack([row, col], dim=0)\n",
    "    edge_index = to_undirected(edge_index)  # Make the graph undirected\n",
    "    \n",
    "    return Data(x=x, edge_index=edge_index)\n",
    "\n",
    "# Step 3: Create Dataset\n",
    "def create_dataset(X, y, k=3):\n",
    "    dataset = []\n",
    "    for i in tqdm(range(len(X)), desc=\"Creating dataset\"):\n",
    "        graph = point_cloud_to_graph(X[i], k=k)\n",
    "        if graph is not None:\n",
    "            graph.y = torch.tensor([y[i]], dtype=torch.float)\n",
    "            dataset.append(graph)\n",
    "    return dataset\n",
    "\n",
    "# Step 4: Define GCN Model\n",
    "class GCN(nn.Module):\n",
    "    def __init__(self, in_channels, hidden_channels):\n",
    "        super(GCN, self).__init__()\n",
    "        self.conv1 = GCNConv(in_channels, hidden_channels)\n",
    "        self.conv2 = GCNConv(hidden_channels, hidden_channels)\n",
    "        self.conv3 = GCNConv(hidden_channels, hidden_channels)\n",
    "        self.fc = nn.Linear(hidden_channels, 1)\n",
    "        \n",
    "    def forward(self, data):\n",
    "        x, edge_index, batch = data.x, data.edge_index, data.batch\n",
    "        \n",
    "        # GCN layers\n",
    "        x = F.relu(self.conv1(x, edge_index))\n",
    "        x = F.dropout(x, p=0.3, training=self.training)\n",
    "        x = F.relu(self.conv2(x, edge_index))\n",
    "        x = F.dropout(x, p=0.3, training=self.training)\n",
    "        x = F.relu(self.conv3(x, edge_index))\n",
    "        \n",
    "        # Global pooling\n",
    "        x = global_mean_pool(x, batch)\n",
    "        \n",
    "        # Output layer\n",
    "        x = self.fc(x)\n",
    "        return torch.sigmoid(x)\n",
    "\n",
    "# Step 5: Define EdgeConv Model\n",
    "from torch_geometric.nn import EdgeConv\n",
    "\n",
    "class EdgeConvModel(nn.Module):\n",
    "    def __init__(self, in_channels, hidden_channels):\n",
    "        super(EdgeConvModel, self).__init__()\n",
    "        # Define MLPs for EdgeConv\n",
    "        self.edge_conv1 = EdgeConv(nn.Sequential(\n",
    "            nn.Linear(2 * in_channels, hidden_channels),\n",
    "            nn.ReLU(),\n",
    "            nn.Linear(hidden_channels, hidden_channels)\n",
    "        ))\n",
    "        self.edge_conv2 = EdgeConv(nn.Sequential(\n",
    "            nn.Linear(2 * hidden_channels, hidden_channels),\n",
    "            nn.ReLU(),\n",
    "            nn.Linear(hidden_channels, hidden_channels)\n",
    "        ))\n",
    "        self.edge_conv3 = EdgeConv(nn.Sequential(\n",
    "            nn.Linear(2 * hidden_channels, hidden_channels),\n",
    "            nn.ReLU(),\n",
    "            nn.Linear(hidden_channels, hidden_channels)\n",
    "        ))\n",
    "        self.fc = nn.Linear(hidden_channels, 1)\n",
    "        \n",
    "    def forward(self, data):\n",
    "        x, edge_index, batch = data.x, data.edge_index, data.batch\n",
    "        \n",
    "        # EdgeConv layers\n",
    "        x = self.edge_conv1(x, edge_index)\n",
    "        x = F.relu(x)\n",
    "        x = F.dropout(x, p=0.3, training=self.training)\n",
    "        x = self.edge_conv2(x, edge_index)\n",
    "        x = F.relu(x)\n",
    "        x = F.dropout(x, p=0.3, training=self.training)\n",
    "        x = self.edge_conv3(x, edge_index)\n",
    "        x = F.relu(x)\n",
    "        \n",
    "        # Global pooling\n",
    "        x = global_mean_pool(x, batch)\n",
    "        \n",
    "        # Output layer\n",
    "        x = self.fc(x)\n",
    "        return torch.sigmoid(x)\n",
    "\n",
    "# Step 6: Training Loop with tqdm\n",
    "def train_model(model, train_loader, val_loader, epochs=50):\n",
    "    optimizer = torch.optim.Adam(model.parameters(), lr=0.001)\n",
    "    criterion = nn.BCELoss()\n",
    "    \n",
    "    train_losses, val_losses = [], []\n",
    "    train_accs, val_accs = [], []\n",
    "    \n",
    "    for epoch in tqdm(range(epochs), desc=\"Epochs\"):\n",
    "        model.train()\n",
    "        train_loss = 0\n",
    "        correct = 0\n",
    "        total = 0\n",
    "        \n",
    "        for data in tqdm(train_loader, desc=f\"Training Epoch {epoch+1}\", leave=False):\n",
    "            data = data.to(device)\n",
    "            optimizer.zero_grad()\n",
    "            out = model(data).squeeze()\n",
    "            loss = criterion(out, data.y)\n",
    "            loss.backward()\n",
    "            optimizer.step()\n",
    "            \n",
    "            train_loss += loss.item()\n",
    "            pred = (out > 0.5).float()\n",
    "            correct += (pred == data.y).sum().item()\n",
    "            total += len(data.y)\n",
    "        \n",
    "        train_loss /= len(train_loader)\n",
    "        train_acc = correct / total\n",
    "        train_losses.append(train_loss)\n",
    "        train_accs.append(train_acc)\n",
    "        \n",
    "        # Validation\n",
    "        model.eval()\n",
    "        val_loss = 0\n",
    "        correct = 0\n",
    "        total = 0\n",
    "        with torch.no_grad():\n",
    "            for data in tqdm(val_loader, desc=f\"Validation Epoch {epoch+1}\", leave=False):\n",
    "                data = data.to(device)\n",
    "                out = model(data).squeeze()\n",
    "                loss = criterion(out, data.y)\n",
    "                val_loss += loss.item()\n",
    "                pred = (out > 0.5).float()\n",
    "                correct += (pred == data.y).sum().item()\n",
    "                total += len(data.y)\n",
    "        \n",
    "        val_loss /= len(val_loader)\n",
    "        val_acc = correct / total\n",
    "        val_losses.append(val_loss)\n",
    "        val_accs.append(val_acc)\n",
    "        \n",
    "        print(f'Epoch {epoch+1}/{epochs}, Train Loss: {train_loss:.4f}, Train Acc: {train_acc:.4f}, Val Loss: {val_loss:.4f}, Val Acc: {val_acc:.4f}')\n",
    "    \n",
    "    return train_losses, val_losses, train_accs, val_accs\n",
    "\n",
    "# Step 7: Main Execution\n",
    "if __name__ == \"__main__\":\n",
    "    # Load data\n",
    "    X, y = load_data('QG_jets.npz')\n",
    "    \n",
    "    # Create dataset with tqdm\n",
    "    dataset = create_dataset(X, y, k=3)\n",
    "    \n",
    "    # Split dataset\n",
    "    train_idx, test_idx = train_test_split(range(len(dataset)), test_size=0.2, random_state=42)\n",
    "    val_idx, test_idx = train_test_split(test_idx, test_size=0.5, random_state=42)\n",
    "    \n",
    "    train_dataset = [dataset[i] for i in train_idx]\n",
    "    val_dataset = [dataset[i] for i in val_idx]\n",
    "    test_dataset = [dataset[i] for i in test_idx]\n",
    "    \n",
    "    # Create data loaders\n",
    "    train_loader = DataLoader(train_dataset, batch_size=128, shuffle=True)\n",
    "    val_loader = DataLoader(val_dataset, batch_size=128, shuffle=False)\n",
    "    test_loader = DataLoader(test_dataset, batch_size=128, shuffle=False)\n",
    "    \n",
    "    # Train GCN\n",
    "    print(\"Training GCN...\")\n",
    "    gcn_model = GCN(in_channels=4, hidden_channels=64).to(device)\n",
    "    gcn_train_losses, gcn_val_losses, gcn_train_accs, gcn_val_accs = train_model(gcn_model, train_loader, val_loader)\n",
    "    \n",
    "    # Train EdgeConv\n",
    "    print(\"\\nTraining EdgeConv...\")\n",
    "    edgeconv_model = EdgeConvModel(in_channels=4, hidden_channels=64).to(device)\n",
    "    edgeconv_train_losses, edgeconv_val_losses, edgeconv_train_accs, edgeconv_val_accs = train_model(edgeconv_model, train_loader, val_loader)\n",
    "    \n",
    "    # Plotting\n",
    "    plt.figure(figsize=(12, 4))\n",
    "    \n",
    "    plt.subplot(1, 2, 1)\n",
    "    plt.plot(gcn_train_losses, label='GCN Train Loss')\n",
    "    plt.plot(gcn_val_losses, label='GCN Val Loss')\n",
    "    plt.plot(edgeconv_train_losses, label='EdgeConv Train Loss')\n",
    "    plt.plot(edgeconv_val_losses, label='EdgeConv Val Loss')\n",
    "    plt.xlabel('Epoch')\n",
    "    plt.ylabel('Loss')\n",
    "    plt.legend()\n",
    "    \n",
    "    plt.subplot(1, 2, 2)\n",
    "    plt.plot(gcn_train_accs, label='GCN Train Acc')\n",
    "    plt.plot(gcn_val_accs, label='GCN Val Acc')\n",
    "    plt.plot(edgeconv_train_accs, label='EdgeConv Train Acc')\n",
    "    plt.plot(edgeconv_val_accs, label='EdgeConv Val Acc')\n",
    "    plt.xlabel('Epoch')\n",
    "    plt.ylabel('Accuracy')\n",
    "    plt.legend()\n",
    "    \n",
    "    plt.tight_layout()\n",
    "    plt.show()\n",
    "    \n",
    "    # Evaluate on test set\n",
    "    def evaluate(model, loader):\n",
    "        model.eval()\n",
    "        correct = 0\n",
    "        total = 0\n",
    "        with torch.no_grad():\n",
    "            for data in tqdm(loader, desc=\"Evaluating\"):\n",
    "                data = data.to(device)\n",
    "                out = model(data).squeeze()\n",
    "                pred = (out > 0.5).float()\n",
    "                correct += (pred == data.y).sum().item()\n",
    "                total += len(data.y)\n",
    "        return correct / total\n",
    "    \n",
    "    gcn_test_acc = evaluate(gcn_model, test_loader)\n",
    "    edgeconv_test_acc = evaluate(edgeconv_model, test_loader)\n",
    "    \n",
    "    print(f\"\\nGCN Test Accuracy: {gcn_test_acc:.4f}\")\n",
    "    print(f\"EdgeConv Test Accuracy: {edgeconv_test_acc:.4f}\")"
   ]
  },
  {
   "cell_type": "code",
   "execution_count": 6,
   "metadata": {},
   "outputs": [
    {
     "name": "stderr",
     "output_type": "stream",
     "text": [
      "Creating dataset: 100%|██████████| 100000/100000 [05:32<00:00, 301.04it/s]\n"
     ]
    },
    {
     "name": "stdout",
     "output_type": "stream",
     "text": [
      "Training GAT...\n"
     ]
    },
    {
     "name": "stderr",
     "output_type": "stream",
     "text": [
      "Epochs:   2%|▏         | 1/50 [01:44<1:25:21, 104.51s/it]"
     ]
    },
    {
     "name": "stdout",
     "output_type": "stream",
     "text": [
      "Epoch 1/50, Train Loss: 1.7516, Train Acc: 0.4925, Val Loss: 0.6946, Val Acc: 0.4996\n"
     ]
    },
    {
     "name": "stderr",
     "output_type": "stream",
     "text": [
      "Epochs:   4%|▍         | 2/50 [03:28<1:23:10, 103.96s/it]"
     ]
    },
    {
     "name": "stdout",
     "output_type": "stream",
     "text": [
      "Epoch 2/50, Train Loss: 0.6954, Train Acc: 0.4912, Val Loss: 0.6933, Val Acc: 0.5014\n"
     ]
    },
    {
     "name": "stderr",
     "output_type": "stream",
     "text": [
      "Epochs:   6%|▌         | 3/50 [05:15<1:22:31, 105.35s/it]"
     ]
    },
    {
     "name": "stdout",
     "output_type": "stream",
     "text": [
      "Epoch 3/50, Train Loss: 0.6944, Train Acc: 0.4905, Val Loss: 0.6924, Val Acc: 0.4880\n"
     ]
    },
    {
     "name": "stderr",
     "output_type": "stream",
     "text": [
      "Epochs:   8%|▊         | 4/50 [07:00<1:20:47, 105.38s/it]"
     ]
    },
    {
     "name": "stdout",
     "output_type": "stream",
     "text": [
      "Epoch 4/50, Train Loss: 0.6940, Train Acc: 0.4900, Val Loss: 0.6941, Val Acc: 0.4931\n"
     ]
    },
    {
     "name": "stderr",
     "output_type": "stream",
     "text": [
      "Epochs:  10%|█         | 5/50 [08:43<1:18:19, 104.44s/it]"
     ]
    },
    {
     "name": "stdout",
     "output_type": "stream",
     "text": [
      "Epoch 5/50, Train Loss: 0.6942, Train Acc: 0.4922, Val Loss: 0.6941, Val Acc: 0.4925\n"
     ]
    },
    {
     "name": "stderr",
     "output_type": "stream",
     "text": [
      "Epochs:  12%|█▏        | 6/50 [10:22<1:15:11, 102.54s/it]"
     ]
    },
    {
     "name": "stdout",
     "output_type": "stream",
     "text": [
      "Epoch 6/50, Train Loss: 0.6942, Train Acc: 0.4868, Val Loss: 0.6945, Val Acc: 0.4925\n"
     ]
    },
    {
     "name": "stderr",
     "output_type": "stream",
     "text": [
      "Epochs:  14%|█▍        | 7/50 [12:10<1:14:51, 104.46s/it]"
     ]
    },
    {
     "name": "stdout",
     "output_type": "stream",
     "text": [
      "Epoch 7/50, Train Loss: 0.6939, Train Acc: 0.4944, Val Loss: 0.6923, Val Acc: 0.5161\n"
     ]
    },
    {
     "name": "stderr",
     "output_type": "stream",
     "text": [
      "Epochs:  16%|█▌        | 8/50 [13:58<1:13:47, 105.42s/it]"
     ]
    },
    {
     "name": "stdout",
     "output_type": "stream",
     "text": [
      "Epoch 8/50, Train Loss: 0.6939, Train Acc: 0.5039, Val Loss: 0.6924, Val Acc: 0.5153\n"
     ]
    },
    {
     "name": "stderr",
     "output_type": "stream",
     "text": [
      "Epochs:  18%|█▊        | 9/50 [15:56<1:14:53, 109.60s/it]"
     ]
    },
    {
     "name": "stdout",
     "output_type": "stream",
     "text": [
      "Epoch 9/50, Train Loss: 0.6936, Train Acc: 0.5022, Val Loss: 0.6931, Val Acc: 0.4560\n"
     ]
    },
    {
     "name": "stderr",
     "output_type": "stream",
     "text": [
      "Epochs:  20%|██        | 10/50 [17:42<1:12:14, 108.37s/it]"
     ]
    },
    {
     "name": "stdout",
     "output_type": "stream",
     "text": [
      "Epoch 10/50, Train Loss: 0.6932, Train Acc: 0.5167, Val Loss: 0.6927, Val Acc: 0.5014\n"
     ]
    },
    {
     "name": "stderr",
     "output_type": "stream",
     "text": [
      "Epochs:  22%|██▏       | 11/50 [19:25<1:09:22, 106.72s/it]"
     ]
    },
    {
     "name": "stdout",
     "output_type": "stream",
     "text": [
      "Epoch 11/50, Train Loss: 0.6932, Train Acc: 0.5222, Val Loss: 0.6925, Val Acc: 0.5036\n"
     ]
    },
    {
     "name": "stderr",
     "output_type": "stream",
     "text": [
      "Epochs:  24%|██▍       | 12/50 [21:33<1:11:40, 113.17s/it]"
     ]
    },
    {
     "name": "stdout",
     "output_type": "stream",
     "text": [
      "Epoch 12/50, Train Loss: 0.6933, Train Acc: 0.5163, Val Loss: 0.6932, Val Acc: 0.4945\n"
     ]
    },
    {
     "name": "stderr",
     "output_type": "stream",
     "text": [
      "Epochs:  26%|██▌       | 13/50 [23:39<1:12:10, 117.05s/it]"
     ]
    },
    {
     "name": "stdout",
     "output_type": "stream",
     "text": [
      "Epoch 13/50, Train Loss: 0.6930, Train Acc: 0.5175, Val Loss: 0.6930, Val Acc: 0.5075\n"
     ]
    },
    {
     "name": "stderr",
     "output_type": "stream",
     "text": [
      "Epochs:  28%|██▊       | 14/50 [25:48<1:12:29, 120.83s/it]"
     ]
    },
    {
     "name": "stdout",
     "output_type": "stream",
     "text": [
      "Epoch 14/50, Train Loss: 0.6931, Train Acc: 0.5184, Val Loss: 0.6931, Val Acc: 0.4970\n"
     ]
    },
    {
     "name": "stderr",
     "output_type": "stream",
     "text": [
      "Epochs:  30%|███       | 15/50 [27:52<1:10:56, 121.60s/it]"
     ]
    },
    {
     "name": "stdout",
     "output_type": "stream",
     "text": [
      "Epoch 15/50, Train Loss: 0.6933, Train Acc: 0.5111, Val Loss: 0.6928, Val Acc: 0.5096\n"
     ]
    },
    {
     "name": "stderr",
     "output_type": "stream",
     "text": [
      "Epochs:  32%|███▏      | 16/50 [30:05<1:10:56, 125.18s/it]"
     ]
    },
    {
     "name": "stdout",
     "output_type": "stream",
     "text": [
      "Epoch 16/50, Train Loss: 0.6933, Train Acc: 0.5045, Val Loss: 0.6923, Val Acc: 0.4733\n"
     ]
    },
    {
     "name": "stderr",
     "output_type": "stream",
     "text": [
      "Epochs:  34%|███▍      | 17/50 [32:28<1:11:40, 130.32s/it]"
     ]
    },
    {
     "name": "stdout",
     "output_type": "stream",
     "text": [
      "Epoch 17/50, Train Loss: 0.6930, Train Acc: 0.5023, Val Loss: 0.6934, Val Acc: 0.4925\n"
     ]
    },
    {
     "name": "stderr",
     "output_type": "stream",
     "text": [
      "Epochs:  36%|███▌      | 18/50 [34:59<1:12:51, 136.60s/it]"
     ]
    },
    {
     "name": "stdout",
     "output_type": "stream",
     "text": [
      "Epoch 18/50, Train Loss: 0.6934, Train Acc: 0.5065, Val Loss: 0.6931, Val Acc: 0.5075\n"
     ]
    },
    {
     "name": "stderr",
     "output_type": "stream",
     "text": [
      "Epochs:  38%|███▊      | 19/50 [37:42<1:14:41, 144.55s/it]"
     ]
    },
    {
     "name": "stdout",
     "output_type": "stream",
     "text": [
      "Epoch 19/50, Train Loss: 0.6933, Train Acc: 0.5156, Val Loss: 0.6930, Val Acc: 0.5075\n"
     ]
    },
    {
     "name": "stderr",
     "output_type": "stream",
     "text": [
      "Epochs:  40%|████      | 20/50 [40:48<1:18:27, 156.91s/it]"
     ]
    },
    {
     "name": "stdout",
     "output_type": "stream",
     "text": [
      "Epoch 20/50, Train Loss: 0.6933, Train Acc: 0.5065, Val Loss: 0.6930, Val Acc: 0.5075\n"
     ]
    },
    {
     "name": "stderr",
     "output_type": "stream",
     "text": [
      "Epochs:  42%|████▏     | 21/50 [46:17<1:40:52, 208.70s/it]"
     ]
    },
    {
     "name": "stdout",
     "output_type": "stream",
     "text": [
      "Epoch 21/50, Train Loss: 0.6929, Train Acc: 0.5169, Val Loss: 0.6930, Val Acc: 0.5010\n"
     ]
    },
    {
     "name": "stderr",
     "output_type": "stream",
     "text": [
      "Epochs:  44%|████▍     | 22/50 [48:44<1:28:43, 190.12s/it]"
     ]
    },
    {
     "name": "stdout",
     "output_type": "stream",
     "text": [
      "Epoch 22/50, Train Loss: 0.6931, Train Acc: 0.5251, Val Loss: 0.6926, Val Acc: 0.4844\n"
     ]
    },
    {
     "name": "stderr",
     "output_type": "stream",
     "text": [
      "Epochs:  46%|████▌     | 23/50 [51:40<1:23:42, 186.02s/it]"
     ]
    },
    {
     "name": "stdout",
     "output_type": "stream",
     "text": [
      "Epoch 23/50, Train Loss: 0.6927, Train Acc: 0.5253, Val Loss: 0.6927, Val Acc: 0.5050\n"
     ]
    },
    {
     "name": "stderr",
     "output_type": "stream",
     "text": [
      "Epochs:  48%|████▊     | 24/50 [54:54<1:21:39, 188.44s/it]"
     ]
    },
    {
     "name": "stdout",
     "output_type": "stream",
     "text": [
      "Epoch 24/50, Train Loss: 0.6919, Train Acc: 0.5559, Val Loss: 0.6927, Val Acc: 0.5002\n"
     ]
    },
    {
     "name": "stderr",
     "output_type": "stream",
     "text": [
      "Epochs:  50%|█████     | 25/50 [57:54<1:17:28, 185.94s/it]"
     ]
    },
    {
     "name": "stdout",
     "output_type": "stream",
     "text": [
      "Epoch 25/50, Train Loss: 0.6928, Train Acc: 0.5405, Val Loss: 0.6922, Val Acc: 0.5197\n"
     ]
    },
    {
     "name": "stderr",
     "output_type": "stream",
     "text": [
      "Epochs:  52%|█████▏    | 26/50 [1:00:43<1:12:14, 180.60s/it]"
     ]
    },
    {
     "name": "stdout",
     "output_type": "stream",
     "text": [
      "Epoch 26/50, Train Loss: 0.6927, Train Acc: 0.5325, Val Loss: 0.6930, Val Acc: 0.5074\n"
     ]
    },
    {
     "name": "stderr",
     "output_type": "stream",
     "text": [
      "Epochs:  54%|█████▍    | 27/50 [1:03:45<1:09:23, 181.03s/it]"
     ]
    },
    {
     "name": "stdout",
     "output_type": "stream",
     "text": [
      "Epoch 27/50, Train Loss: 0.6929, Train Acc: 0.5198, Val Loss: 0.6934, Val Acc: 0.4925\n"
     ]
    },
    {
     "name": "stderr",
     "output_type": "stream",
     "text": [
      "Epochs:  56%|█████▌    | 28/50 [1:06:43<1:06:02, 180.11s/it]"
     ]
    },
    {
     "name": "stdout",
     "output_type": "stream",
     "text": [
      "Epoch 28/50, Train Loss: 0.6930, Train Acc: 0.5238, Val Loss: 0.6930, Val Acc: 0.5075\n"
     ]
    },
    {
     "name": "stderr",
     "output_type": "stream",
     "text": [
      "Epochs:  58%|█████▊    | 29/50 [1:09:34<1:02:07, 177.49s/it]"
     ]
    },
    {
     "name": "stdout",
     "output_type": "stream",
     "text": [
      "Epoch 29/50, Train Loss: 0.6927, Train Acc: 0.5344, Val Loss: 0.6930, Val Acc: 0.5069\n"
     ]
    },
    {
     "name": "stderr",
     "output_type": "stream",
     "text": [
      "Epochs:  60%|██████    | 30/50 [1:12:36<59:34, 178.72s/it]  "
     ]
    },
    {
     "name": "stdout",
     "output_type": "stream",
     "text": [
      "Epoch 30/50, Train Loss: 0.6928, Train Acc: 0.5402, Val Loss: 0.6931, Val Acc: 0.5075\n"
     ]
    },
    {
     "name": "stderr",
     "output_type": "stream",
     "text": [
      "Epochs:  62%|██████▏   | 31/50 [1:15:29<56:05, 177.12s/it]"
     ]
    },
    {
     "name": "stdout",
     "output_type": "stream",
     "text": [
      "Epoch 31/50, Train Loss: 0.6924, Train Acc: 0.5435, Val Loss: 0.6934, Val Acc: 0.5075\n"
     ]
    },
    {
     "name": "stderr",
     "output_type": "stream",
     "text": [
      "Epochs:  64%|██████▍   | 32/50 [1:18:30<53:29, 178.33s/it]"
     ]
    },
    {
     "name": "stdout",
     "output_type": "stream",
     "text": [
      "Epoch 32/50, Train Loss: 0.6925, Train Acc: 0.5476, Val Loss: 0.6933, Val Acc: 0.5075\n"
     ]
    },
    {
     "name": "stderr",
     "output_type": "stream",
     "text": [
      "Epochs:  66%|██████▌   | 33/50 [1:21:30<50:37, 178.70s/it]"
     ]
    },
    {
     "name": "stdout",
     "output_type": "stream",
     "text": [
      "Epoch 33/50, Train Loss: 0.6923, Train Acc: 0.5453, Val Loss: 0.6931, Val Acc: 0.4870\n"
     ]
    },
    {
     "name": "stderr",
     "output_type": "stream",
     "text": [
      "Epochs:  68%|██████▊   | 34/50 [1:24:29<47:42, 178.92s/it]"
     ]
    },
    {
     "name": "stdout",
     "output_type": "stream",
     "text": [
      "Epoch 34/50, Train Loss: 0.6921, Train Acc: 0.5473, Val Loss: 0.6925, Val Acc: 0.5067\n"
     ]
    },
    {
     "name": "stderr",
     "output_type": "stream",
     "text": [
      "Epochs:  70%|███████   | 35/50 [1:27:40<45:36, 182.42s/it]"
     ]
    },
    {
     "name": "stdout",
     "output_type": "stream",
     "text": [
      "Epoch 35/50, Train Loss: 0.6910, Train Acc: 0.5579, Val Loss: 0.6930, Val Acc: 0.5075\n"
     ]
    },
    {
     "name": "stderr",
     "output_type": "stream",
     "text": [
      "Epochs:  72%|███████▏  | 36/50 [1:31:55<47:39, 204.23s/it]"
     ]
    },
    {
     "name": "stdout",
     "output_type": "stream",
     "text": [
      "Epoch 36/50, Train Loss: 0.6909, Train Acc: 0.5615, Val Loss: 0.6929, Val Acc: 0.5031\n"
     ]
    },
    {
     "name": "stderr",
     "output_type": "stream",
     "text": [
      "Epochs:  74%|███████▍  | 37/50 [1:32:56<34:55, 161.18s/it]"
     ]
    },
    {
     "name": "stdout",
     "output_type": "stream",
     "text": [
      "Epoch 37/50, Train Loss: 0.6908, Train Acc: 0.5619, Val Loss: 0.6921, Val Acc: 0.5011\n"
     ]
    },
    {
     "name": "stderr",
     "output_type": "stream",
     "text": [
      "Epochs:  76%|███████▌  | 38/50 [1:33:53<25:59, 129.95s/it]"
     ]
    },
    {
     "name": "stdout",
     "output_type": "stream",
     "text": [
      "Epoch 38/50, Train Loss: 0.6905, Train Acc: 0.5618, Val Loss: 0.6910, Val Acc: 0.5060\n"
     ]
    },
    {
     "name": "stderr",
     "output_type": "stream",
     "text": [
      "Epochs:  78%|███████▊  | 39/50 [1:34:49<19:47, 107.95s/it]"
     ]
    },
    {
     "name": "stdout",
     "output_type": "stream",
     "text": [
      "Epoch 39/50, Train Loss: 0.6903, Train Acc: 0.5626, Val Loss: 0.6923, Val Acc: 0.5036\n"
     ]
    },
    {
     "name": "stderr",
     "output_type": "stream",
     "text": [
      "Epochs:  80%|████████  | 40/50 [1:35:46<15:26, 92.61s/it] "
     ]
    },
    {
     "name": "stdout",
     "output_type": "stream",
     "text": [
      "Epoch 40/50, Train Loss: 0.6902, Train Acc: 0.5577, Val Loss: 0.6919, Val Acc: 0.5016\n"
     ]
    },
    {
     "name": "stderr",
     "output_type": "stream",
     "text": [
      "Epochs:  82%|████████▏ | 41/50 [1:36:40<12:10, 81.14s/it]"
     ]
    },
    {
     "name": "stdout",
     "output_type": "stream",
     "text": [
      "Epoch 41/50, Train Loss: 0.6913, Train Acc: 0.5529, Val Loss: 0.6929, Val Acc: 0.5072\n"
     ]
    },
    {
     "name": "stderr",
     "output_type": "stream",
     "text": [
      "Epochs:  84%|████████▍ | 42/50 [1:37:38<09:51, 74.00s/it]"
     ]
    },
    {
     "name": "stdout",
     "output_type": "stream",
     "text": [
      "Epoch 42/50, Train Loss: 0.6910, Train Acc: 0.5540, Val Loss: 0.6936, Val Acc: 0.5067\n"
     ]
    },
    {
     "name": "stderr",
     "output_type": "stream",
     "text": [
      "Epochs:  86%|████████▌ | 43/50 [1:38:35<08:03, 69.07s/it]"
     ]
    },
    {
     "name": "stdout",
     "output_type": "stream",
     "text": [
      "Epoch 43/50, Train Loss: 0.6914, Train Acc: 0.5531, Val Loss: 0.6930, Val Acc: 0.5075\n"
     ]
    },
    {
     "name": "stderr",
     "output_type": "stream",
     "text": [
      "Epochs:  88%|████████▊ | 44/50 [1:41:12<09:32, 95.33s/it]"
     ]
    },
    {
     "name": "stdout",
     "output_type": "stream",
     "text": [
      "Epoch 44/50, Train Loss: 0.6910, Train Acc: 0.5555, Val Loss: 0.6932, Val Acc: 0.5075\n"
     ]
    },
    {
     "name": "stderr",
     "output_type": "stream",
     "text": [
      "Epochs:  90%|█████████ | 45/50 [1:43:23<08:49, 105.93s/it]"
     ]
    },
    {
     "name": "stdout",
     "output_type": "stream",
     "text": [
      "Epoch 45/50, Train Loss: 0.6911, Train Acc: 0.5544, Val Loss: 0.6924, Val Acc: 0.5066\n"
     ]
    },
    {
     "name": "stderr",
     "output_type": "stream",
     "text": [
      "Epochs:  92%|█████████▏| 46/50 [1:44:17<06:01, 90.39s/it] "
     ]
    },
    {
     "name": "stdout",
     "output_type": "stream",
     "text": [
      "Epoch 46/50, Train Loss: 0.6897, Train Acc: 0.5662, Val Loss: 0.6948, Val Acc: 0.5075\n"
     ]
    },
    {
     "name": "stderr",
     "output_type": "stream",
     "text": [
      "Epochs:  94%|█████████▍| 47/50 [1:45:11<03:58, 79.60s/it]"
     ]
    },
    {
     "name": "stdout",
     "output_type": "stream",
     "text": [
      "Epoch 47/50, Train Loss: 0.6892, Train Acc: 0.5653, Val Loss: 0.6954, Val Acc: 0.5075\n"
     ]
    },
    {
     "name": "stderr",
     "output_type": "stream",
     "text": [
      "Epochs:  96%|█████████▌| 48/50 [1:46:07<02:24, 72.42s/it]"
     ]
    },
    {
     "name": "stdout",
     "output_type": "stream",
     "text": [
      "Epoch 48/50, Train Loss: 0.6896, Train Acc: 0.5604, Val Loss: 0.6949, Val Acc: 0.5072\n"
     ]
    },
    {
     "name": "stderr",
     "output_type": "stream",
     "text": [
      "Epochs:  98%|█████████▊| 49/50 [1:47:02<01:07, 67.12s/it]"
     ]
    },
    {
     "name": "stdout",
     "output_type": "stream",
     "text": [
      "Epoch 49/50, Train Loss: 0.6887, Train Acc: 0.5633, Val Loss: 0.6888, Val Acc: 0.5316\n"
     ]
    },
    {
     "name": "stderr",
     "output_type": "stream",
     "text": [
      "Epochs: 100%|██████████| 50/50 [1:47:55<00:00, 129.50s/it]\n"
     ]
    },
    {
     "name": "stdout",
     "output_type": "stream",
     "text": [
      "Epoch 50/50, Train Loss: 0.6886, Train Acc: 0.5671, Val Loss: 0.6905, Val Acc: 0.4983\n"
     ]
    },
    {
     "data": {
      "image/png": "[encoded data removed]",
      "text/plain": [
       "<Figure size 1200x400 with 2 Axes>"
      ]
     },
     "metadata": {},
     "output_type": "display_data"
    },
    {
     "name": "stderr",
     "output_type": "stream",
     "text": [
      "Evaluating: 100%|██████████| 79/79 [00:02<00:00, 30.71it/s]"
     ]
    },
    {
     "name": "stdout",
     "output_type": "stream",
     "text": [
      "\n",
      "GAT Test Accuracy: 0.4939\n"
     ]
    },
    {
     "name": "stderr",
     "output_type": "stream",
     "text": [
      "\n"
     ]
    }
   ],
   "source": [
    "# Set random seed for reproducibility\n",
    "torch.manual_seed(42)\n",
    "device = torch.device('cuda' if torch.cuda.is_available() else 'cpu')\n",
    "\n",
    "# Step 1: Load and Preprocess the Dataset\n",
    "def load_data(file_path='QG_jets.npz'):\n",
    "    data = np.load(file_path)\n",
    "    X = data['X']  # Shape: (100000, M, 4)\n",
    "    y = data['y']  # Shape: (100000,)\n",
    "    return X, y\n",
    "\n",
    "# Step 2: Convert Point-Cloud to Graph\n",
    "def point_cloud_to_graph(jet, k=3):\n",
    "    # jet: Shape (M, 4) - [pt, rapidity, azimuthal angle, pdgid]\n",
    "    # Filter out padded particles (where all features are 0)\n",
    "    mask = np.sum(jet, axis=1) != 0\n",
    "    jet = jet[mask]\n",
    "    \n",
    "    num_particles = len(jet)\n",
    "    if num_particles <= 1:  # Skip jets with 0 or 1 particle (can't form a graph)\n",
    "        return None\n",
    "    \n",
    "    # Node features: [pt, rapidity, azimuthal angle, pdgid]\n",
    "    x = torch.tensor(jet, dtype=torch.float)\n",
    "    \n",
    "    # Normalize features (except pdgid)\n",
    "    scaler = StandardScaler()\n",
    "    x[:, :3] = torch.tensor(scaler.fit_transform(x[:, :3].numpy()), dtype=torch.float)\n",
    "    \n",
    "    # Compute edges using k-NN in (rapidity, azimuthal angle) space\n",
    "    eta_phi = x[:, 1:3]  # Rapidity and azimuthal angle\n",
    "    dists = torch.cdist(eta_phi, eta_phi)  # Compute pairwise distances (Delta R approximation)\n",
    "    \n",
    "    # Adjust k if the number of particles is less than k + 1\n",
    "    k_adjusted = min(k, num_particles - 1)  # Ensure we don't select more neighbors than available\n",
    "    \n",
    "    # Get k-nearest neighbors (excluding self-loops)\n",
    "    _, indices = torch.topk(dists, k_adjusted + 1, largest=False)\n",
    "    indices = indices[:, 1:]  # Exclude the node itself (self-loop)\n",
    "    \n",
    "    # Create edge indices\n",
    "    row = torch.arange(num_particles).repeat_interleave(k_adjusted)\n",
    "    col = indices.flatten()\n",
    "    edge_index = torch.stack([row, col], dim=0)\n",
    "    edge_index = to_undirected(edge_index)  # Make the graph undirected\n",
    "    \n",
    "    return Data(x=x, edge_index=edge_index)\n",
    "\n",
    "# Step 3: Create Dataset\n",
    "def create_dataset(X, y, k=3):\n",
    "    dataset = []\n",
    "    for i in tqdm(range(len(X)), desc=\"Creating dataset\"):\n",
    "        graph = point_cloud_to_graph(X[i], k=k)\n",
    "        if graph is not None:\n",
    "            graph.y = torch.tensor([y[i]], dtype=torch.float)\n",
    "            dataset.append(graph)\n",
    "    return dataset\n",
    "\n",
    "# Step 4: Define GAT Model\n",
    "class GAT(nn.Module):\n",
    "    def __init__(self, in_channels, hidden_channels, num_heads=4):\n",
    "        super(GAT, self).__init__()\n",
    "        # GAT layers with multi-head attention\n",
    "        self.conv1 = GATConv(in_channels, hidden_channels, heads=num_heads, dropout=0.3)\n",
    "        self.conv2 = GATConv(hidden_channels * num_heads, hidden_channels, heads=num_heads, dropout=0.3)\n",
    "        self.conv3 = GATConv(hidden_channels * num_heads, hidden_channels, heads=1, dropout=0.3)\n",
    "        self.fc = nn.Linear(hidden_channels, 1)\n",
    "        \n",
    "    def forward(self, data):\n",
    "        x, edge_index, batch = data.x, data.edge_index, data.batch\n",
    "        \n",
    "        # GAT layers\n",
    "        x = F.elu(self.conv1(x, edge_index))  # ELU activation as recommended in GAT paper\n",
    "        x = F.dropout(x, p=0.3, training=self.training)\n",
    "        x = F.elu(self.conv2(x, edge_index))\n",
    "        x = F.dropout(x, p=0.3, training=self.training)\n",
    "        x = F.elu(self.conv3(x, edge_index))\n",
    "        \n",
    "        # Global pooling\n",
    "        x = global_mean_pool(x, batch)\n",
    "        \n",
    "        # Output layer\n",
    "        x = self.fc(x)\n",
    "        return torch.sigmoid(x)\n",
    "\n",
    "# Step 5: Training Loop with tqdm\n",
    "def train_model(model, train_loader, val_loader, epochs=50):\n",
    "    optimizer = torch.optim.Adam(model.parameters(), lr=0.001)\n",
    "    criterion = nn.BCELoss()\n",
    "    \n",
    "    train_losses, val_losses = [], []\n",
    "    train_accs, val_accs = [], []\n",
    "    \n",
    "    for epoch in tqdm(range(epochs), desc=\"Epochs\"):\n",
    "        model.train()\n",
    "        train_loss = 0\n",
    "        correct = 0\n",
    "        total = 0\n",
    "        \n",
    "        for data in tqdm(train_loader, desc=f\"Training Epoch {epoch+1}\", leave=False):\n",
    "            data = data.to(device)\n",
    "            optimizer.zero_grad()\n",
    "            out = model(data).squeeze()\n",
    "            loss = criterion(out, data.y)\n",
    "            loss.backward()\n",
    "            optimizer.step()\n",
    "            \n",
    "            train_loss += loss.item()\n",
    "            pred = (out > 0.5).float()\n",
    "            correct += (pred == data.y).sum().item()\n",
    "            total += len(data.y)\n",
    "        \n",
    "        train_loss /= len(train_loader)\n",
    "        train_acc = correct / total\n",
    "        train_losses.append(train_loss)\n",
    "        train_accs.append(train_acc)\n",
    "        \n",
    "        # Validation\n",
    "        model.eval()\n",
    "        val_loss = 0\n",
    "        correct = 0\n",
    "        total = 0\n",
    "        with torch.no_grad():\n",
    "            for data in tqdm(val_loader, desc=f\"Validation Epoch {epoch+1}\", leave=False):\n",
    "                data = data.to(device)\n",
    "                out = model(data).squeeze()\n",
    "                loss = criterion(out, data.y)\n",
    "                val_loss += loss.item()\n",
    "                pred = (out > 0.5).float()\n",
    "                correct += (pred == data.y).sum().item()\n",
    "                total += len(data.y)\n",
    "        \n",
    "        val_loss /= len(val_loader)\n",
    "        val_acc = correct / total\n",
    "        val_losses.append(val_loss)\n",
    "        val_accs.append(val_acc)\n",
    "        \n",
    "        print(f'Epoch {epoch+1}/{epochs}, Train Loss: {train_loss:.4f}, Train Acc: {train_acc:.4f}, Val Loss: {val_loss:.4f}, Val Acc: {val_acc:.4f}')\n",
    "    \n",
    "    return train_losses, val_losses, train_accs, val_accs\n",
    "\n",
    "# Step 6: Main Execution\n",
    "if __name__ == \"__main__\":\n",
    "    # Load data\n",
    "    X, y = load_data('QG_jets.npz')\n",
    "    \n",
    "    # Create dataset with tqdm\n",
    "    dataset = create_dataset(X, y, k=3)\n",
    "    \n",
    "    # Split dataset\n",
    "    train_idx, test_idx = train_test_split(range(len(dataset)), test_size=0.2, random_state=42)\n",
    "    val_idx, test_idx = train_test_split(test_idx, test_size=0.5, random_state=42)\n",
    "    \n",
    "    train_dataset = [dataset[i] for i in train_idx]\n",
    "    val_dataset = [dataset[i] for i in val_idx]\n",
    "    test_dataset = [dataset[i] for i in test_idx]\n",
    "    \n",
    "    # Create data loaders\n",
    "    train_loader = DataLoader(train_dataset, batch_size=128, shuffle=True)\n",
    "    val_loader = DataLoader(val_dataset, batch_size=128, shuffle=False)\n",
    "    test_loader = DataLoader(test_dataset, batch_size=128, shuffle=False)\n",
    "    \n",
    "    # Train GAT\n",
    "    print(\"Training GAT...\")\n",
    "    gat_model = GAT(in_channels=4, hidden_channels=16, num_heads=4).to(device)  # hidden_channels * num_heads = 64\n",
    "    gat_train_losses, gat_val_losses, gat_train_accs, gat_val_accs = train_model(gat_model, train_loader, val_loader)\n",
    "    \n",
    "    # Plotting\n",
    "    plt.figure(figsize=(12, 4))\n",
    "    \n",
    "    plt.subplot(1, 2, 1)\n",
    "    plt.plot(gat_train_losses, label='GAT Train Loss')\n",
    "    plt.plot(gat_val_losses, label='GAT Val Loss')\n",
    "    plt.xlabel('Epoch')\n",
    "    plt.ylabel('Loss')\n",
    "    plt.legend()\n",
    "    \n",
    "    plt.subplot(1, 2, 2)\n",
    "    plt.plot(gat_train_accs, label='GAT Train Acc')\n",
    "    plt.plot(gat_val_accs, label='GAT Val Acc')\n",
    "    plt.xlabel('Epoch')\n",
    "    plt.ylabel('Accuracy')\n",
    "    plt.legend()\n",
    "    \n",
    "    plt.tight_layout()\n",
    "    plt.show()\n",
    "    \n",
    "    # Evaluate on test set\n",
    "    def evaluate(model, loader):\n",
    "        model.eval()\n",
    "        correct = 0\n",
    "        total = 0\n",
    "        with torch.no_grad():\n",
    "            for data in tqdm(loader, desc=\"Evaluating\"):\n",
    "                data = data.to(device)\n",
    "                out = model(data).squeeze()\n",
    "                pred = (out > 0.5).float()\n",
    "                correct += (pred == data.y).sum().item()\n",
    "                total += len(data.y)\n",
    "        return correct / total\n",
    "    \n",
    "    gat_test_acc = evaluate(gat_model, test_loader)\n",
    "    \n",
    "    print(f\"\\nGAT Test Accuracy: {gat_test_acc:.4f}\")"
   ]
  },
  {
   "cell_type": "code",
   "execution_count": null,
   "metadata": {},
   "outputs": [],
   "source": []
  }
 ],
 "metadata": {
  "kernelspec": {
   "display_name": "qiskit",
   "language": "python",
   "name": "python3"
  },
  "language_info": {
   "codemirror_mode": {
    "name": "ipython",
    "version": 3
   },
   "file_extension": ".py",
   "mimetype": "text/x-python",
   "name": "python",
   "nbconvert_exporter": "python",
   "pygments_lexer": "ipython3",
   "version": "3.9.19"
  }
 },
 "nbformat": 4,
 "nbformat_minor": 2
}
