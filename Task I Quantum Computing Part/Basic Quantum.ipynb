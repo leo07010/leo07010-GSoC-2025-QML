{
 "cells": [
  {
   "cell_type": "code",
   "execution_count": 2,
   "metadata": {},
   "outputs": [
    {
     "name": "stdout",
     "output_type": "stream",
     "text": [
      "Task I - Part (1) Circuit:\n",
      "0: ──H─╭●──────────╭SWAP───────────┤  State\n",
      "1: ──H─╰X─╭●───────│───────────────┤  State\n",
      "2: ──H────╰X─╭●────│──────RX(1.57)─┤  State\n",
      "3: ──H───────╰X─╭●─│───────────────┤  State\n",
      "4: ──H──────────╰X─╰SWAP───────────┤  State\n",
      "\n",
      "Final state vector:\n",
      " [0.125-0.125j 0.125-0.125j 0.125-0.125j 0.125-0.125j 0.125-0.125j\n",
      " 0.125-0.125j 0.125-0.125j 0.125-0.125j 0.125-0.125j 0.125-0.125j\n",
      " 0.125-0.125j 0.125-0.125j 0.125-0.125j 0.125-0.125j 0.125-0.125j\n",
      " 0.125-0.125j 0.125-0.125j 0.125-0.125j 0.125-0.125j 0.125-0.125j\n",
      " 0.125-0.125j 0.125-0.125j 0.125-0.125j 0.125-0.125j 0.125-0.125j\n",
      " 0.125-0.125j 0.125-0.125j 0.125-0.125j 0.125-0.125j 0.125-0.125j\n",
      " 0.125-0.125j 0.125-0.125j]\n"
     ]
    }
   ],
   "source": [
    "import pennylane as qml\n",
    "from pennylane import numpy as np\n",
    "\n",
    "dev1 = qml.device(\"default.qubit\", wires=5)\n",
    "\n",
    "@qml.qnode(dev1)\n",
    "def circuit1():\n",
    "\n",
    "    for w in range(5):\n",
    "        qml.Hadamard(wires=w)\n",
    "\n",
    "    qml.CNOT(wires=[0, 1])\n",
    "    qml.CNOT(wires=[1, 2])\n",
    "    qml.CNOT(wires=[2, 3])\n",
    "    qml.CNOT(wires=[3, 4])\n",
    "\n",
    "    qml.SWAP(wires=[0, 4])\n",
    "\n",
    "    qml.RX(np.pi/2, wires=2)\n",
    "\n",
    "    return qml.state()\n",
    "\n",
    "print(\"Task I - Part (1) Circuit:\")\n",
    "print(qml.draw(circuit1)())\n",
    "\n",
    "\n",
    "final_state = circuit1()\n",
    "print(\"\\nFinal state vector:\\n\", final_state)"
   ]
  },
  {
   "cell_type": "code",
   "execution_count": 3,
   "metadata": {},
   "outputs": [
    {
     "name": "stdout",
     "output_type": "stream",
     "text": [
      "Task I - Part (2) Circuit:\n",
      "0: ──H────────╭●────╭●─────H─┤  Probs\n",
      "1: ──H────────├SWAP─│────────┤       \n",
      "2: ──RX(1.05)─╰SWAP─│────────┤       \n",
      "3: ──H──────────────├SWAP────┤       \n",
      "4: ──H──────────────╰SWAP────┤       \n",
      "\n",
      "Probability distribution of ancilla: [0.75 0.25]\n",
      "prob_ancilla[0] -> ancilla = |0>, prob_ancilla[1] -> ancilla = |1>\n"
     ]
    }
   ],
   "source": [
    "dev2 = qml.device(\"default.qubit\", wires=5)  \n",
    "\n",
    "@qml.qnode(dev2)\n",
    "def circuit2():\n",
    "    \"\"\"\n",
    "    wires: [0, 1, 2, 3, 4]\n",
    "    wire0 = ancilla\n",
    "    wire1 = first qubit\n",
    "    wire2 = second qubit\n",
    "    wire3 = third qubit\n",
    "    wire4 = fourth qubit\n",
    "    \"\"\"\n",
    "    qml.Hadamard(wires=1)\n",
    "\n",
    "    qml.RX(np.pi/3, wires=2)\n",
    "\n",
    "    qml.Hadamard(wires=3)\n",
    "    qml.Hadamard(wires=4)\n",
    "\n",
    "    # 4) Swap test between |q1 q2> & |q3 q4>\n",
    "    qml.Hadamard(wires=0)\n",
    "\n",
    "    qml.ctrl(qml.SWAP, control=0)([1,2])\n",
    "    qml.ctrl(qml.SWAP, control=0)([3,4])\n",
    "\n",
    "    qml.Hadamard(wires=0)\n",
    "\n",
    "    return qml.probs(wires=[0])\n",
    "\n",
    "print(\"Task I - Part (2) Circuit:\")\n",
    "print(qml.draw(circuit2)())\n",
    "\n",
    "prob_ancilla = circuit2()\n",
    "print(\"\\nProbability distribution of ancilla:\", prob_ancilla)\n",
    "print(\"prob_ancilla[0] -> ancilla = |0>, prob_ancilla[1] -> ancilla = |1>\")\n"
   ]
  },
  {
   "cell_type": "code",
   "execution_count": null,
   "metadata": {},
   "outputs": [],
   "source": []
  }
 ],
 "metadata": {
  "kernelspec": {
   "display_name": "qiskit",
   "language": "python",
   "name": "python3"
  },
  "language_info": {
   "codemirror_mode": {
    "name": "ipython",
    "version": 3
   },
   "file_extension": ".py",
   "mimetype": "text/x-python",
   "name": "python",
   "nbconvert_exporter": "python",
   "pygments_lexer": "ipython3",
   "version": "3.9.19"
  }
 },
 "nbformat": 4,
 "nbformat_minor": 2
}
